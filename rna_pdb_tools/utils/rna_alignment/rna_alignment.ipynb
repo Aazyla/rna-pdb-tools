{
 "cells": [
  {
   "cell_type": "code",
   "execution_count": 13,
   "metadata": {
    "collapsed": false
   },
   "outputs": [],
   "source": [
    "import rna_alignment as ra; reload(ra);"
   ]
  },
  {
   "cell_type": "markdown",
   "metadata": {},
   "source": [
    "# Load an alignment in the Stockholm format"
   ]
  },
  {
   "cell_type": "code",
   "execution_count": 14,
   "metadata": {
    "collapsed": false
   },
   "outputs": [
    {
     "name": "stdout",
     "output_type": "stream",
     "text": [
      "(((.(.((((,,,(((((((_______.))))))).,,,,,,,,(((((((__.._____))))))...),,)))).)))).\n",
      "SingleLetterAlphabet() alignment with 13 rows and 82 columns\n",
      "UAC-U-UAUUUAUGCUGAGGAU--UGG--CUUAGC-GUCUCUAC...UA- AE009948.1/1094322-1094400\n",
      "UAG-U-CGUAUAAGUUCGGUAAUAUGG-ACCGUUC-GUUUCUAC...CU- AL591975.1/251136-251218\n",
      "ACC-U-CAUAUAAUCUUGGGAAUAUGG-CCCAUAA-GUUUCUAC...GGA U51115.1/15606-15691\n",
      "GAC-U-CAUAUAAUCUAGAGAAUAUGGCUUUAGAA-GUUUCUAC...UA- AF270087.1/2594-2679\n",
      "UUU-U-CAUAUAAUCGCGGGGAUAUGG-CCUGCAA-GUUUCUAC...AA- BA000028.3/1103960-1104044\n",
      "UUU-C-UGUAUAAUGCCGAUAAUAAGG-UUCGGCA-GUUUCUAC...AA- CP000879.1/2164462-2164546\n",
      "CCU-U-UGUAUAUACUCGCGAAUAUGG-CGUGAGA-GUCUCUAC...GG- CP001022.1/459677-459761\n",
      "AAA-U-CGUAUAAUAGAUCGAAUGUGG-CGGUCAA-GUUUCUAC...UG- AACY020193176.1/1629-1713\n",
      "CAU-C-CAUAUAAUCUCAAUAAUAAGG-UUUGAGA-GUCUCUAC...UG- ABDP01000002.1/29705-29789\n",
      "GGC-C-UGUAUAAUUGGGGGAAUAGGG-CUCCCAA-GUUUCUAC...CU- CP000232.1/2146033-2146118\n",
      "UAU-AACAUAUAAUUUUGACAAUAUGG-GUCAUAA-GUUUCUAC...UA- AAML04000013.1/228868-228953\n",
      "CAC-U-CGUAUAUACUCGGUAAUAUGG-UCCGAGC-GUUUCUAC...UU- CP000903.1/3101736-3101822\n",
      "CAC-U-UAUAUAAAUCUGAUAAUAAGG-GUCGGAU-GUUUCUAC...UG- CP000721.1/2204691-2204778\n"
     ]
    }
   ],
   "source": [
    "a = ra.RNAalignment('test_data/RF00167.stockholm.sto')\n",
    "print a"
   ]
  },
  {
   "cell_type": "markdown",
   "metadata": {},
   "source": [
    "Get the first seq of the alignment."
   ]
  },
  {
   "cell_type": "code",
   "execution_count": 3,
   "metadata": {
    "collapsed": false
   },
   "outputs": [
    {
     "name": "stdout",
     "output_type": "stream",
     "text": [
      "ID: AE009948.1/1094322-1094400\n",
      "Name: AE009948.1\n",
      "Description: AE009948.1/1094322-1094400\n",
      "Number of features: 0\n",
      "/start=1094322\n",
      "/end=1094400\n",
      "/accession=AE009948.1\n",
      "Per letter annotation for: secondary_structure\n",
      "Seq('UAC-U-UAUUUAUGCUGAGGAU--UGG--CUUAGC-GUCUCUACAAGACA-CC-...UA-', SingleLetterAlphabet())\n"
     ]
    }
   ],
   "source": [
    "seq = a.io[0]\n",
    "print seq"
   ]
  },
  {
   "cell_type": "code",
   "execution_count": 4,
   "metadata": {
    "collapsed": false
   },
   "outputs": [
    {
     "name": "stdout",
     "output_type": "stream",
     "text": [
      "U-UAUU\n"
     ]
    }
   ],
   "source": [
    "#slice a seq\n",
    "print seq.seq[4:10]"
   ]
  },
  {
   "cell_type": "markdown",
   "metadata": {},
   "source": [
    "# Preview the alignemnt (head, tail, describe)"
   ]
  },
  {
   "cell_type": "code",
   "execution_count": 5,
   "metadata": {
    "collapsed": false
   },
   "outputs": [
    {
     "name": "stdout",
     "output_type": "stream",
     "text": [
      "# STOCKHOLM 1.0\n",
      "AE009948.1/1094322-1094400           UAC-U-UAUUUAUGCUGAGGAU--UGG--CUUAGC-GUCUCUACAAGACA-CC--GU-AA-UGUCU---AACAAUA-AGUA-\n",
      "AL591975.1/251136-251218             UAG-U-CGUAUAAGUUCGGUAAUAUGG-ACCGUUC-GUUUCUACCAGGCAACC--GUAAAAUGCCA---GGCUACG-AGCU-\n",
      "U51115.1/15606-15691                 ACC-U-CAUAUAAUCUUGGGAAUAUGG-CCCAUAA-GUUUCUACCCGGCAACC--GUAAAUUGCCG---GACUAUG-CAGGA\n",
      "AF270087.1/2594-2679                 GAC-U-CAUAUAAUCUAGAGAAUAUGGCUUUAGAA-GUUUCUACCGUGUCGCC--AUAAACGACAC---GACUAUG-AGUA-\n"
     ]
    }
   ],
   "source": [
    "print a.head()"
   ]
  },
  {
   "cell_type": "code",
   "execution_count": 6,
   "metadata": {
    "collapsed": false
   },
   "outputs": [
    {
     "name": "stdout",
     "output_type": "stream",
     "text": [
      "CP000721.1/2204691-2204778           CAC-U-UAUAUAAAUCUGAUAAUAAGG-GUCGGAU-GUUUCUACCAAGCUACC--GUAAAUUGCUAUAGGACUAUA-AGUG-\n",
      "#=GC SS_cons                         (((.(.((((,,,(((((((_______.))))))).,,,,,,,,(((((((__.._____))))))...),,)))).)))).\n",
      "#=GC RF_cons                         ccc.u.CgUAUAAucccgggAAUAUGG.cccggga.GUUUCUACCaggcagCC..GUAAAcugccu...GACUAcG.aggg.\n",
      "//\n",
      "\n"
     ]
    }
   ],
   "source": [
    "print a.tail()"
   ]
  },
  {
   "cell_type": "code",
   "execution_count": 7,
   "metadata": {
    "collapsed": false
   },
   "outputs": [
    {
     "name": "stdout",
     "output_type": "stream",
     "text": [
      "SingleLetterAlphabet() alignment with 13 rows and 82 columns\n"
     ]
    }
   ],
   "source": [
    "print a.describe()"
   ]
  },
  {
   "cell_type": "markdown",
   "metadata": {},
   "source": [
    "# Mapping"
   ]
  },
  {
   "cell_type": "code",
   "execution_count": 8,
   "metadata": {
    "collapsed": false
   },
   "outputs": [
    {
     "name": "stdout",
     "output_type": "stream",
     "text": [
      "[5, 6]\n",
      "CAC-U\n",
      "CAC-U-\n"
     ]
    },
    {
     "data": {
      "text/plain": [
       "[4, None]"
      ]
     },
     "execution_count": 8,
     "metadata": {},
     "output_type": "execute_result"
    }
   ],
   "source": [
    "a.map_seq_on_align('CP000721.1/2204691-2204778', [5,6])"
   ]
  },
  {
   "cell_type": "markdown",
   "metadata": {},
   "source": [
    "# Find a conserved core in the alignment."
   ]
  },
  {
   "cell_type": "code",
   "execution_count": 9,
   "metadata": {
    "collapsed": false
   },
   "outputs": [
    {
     "data": {
      "text/plain": [
       "'xxx-x-xxxxxxxxxxxxxxxx--xxx--xxxxxx-xxxxxxxxxxxxxx-xx--xx-xx-xxxxx---xxxxxxx-xxxx-'"
      ]
     },
     "execution_count": 9,
     "metadata": {},
     "output_type": "execute_result"
    }
   ],
   "source": [
    "a.find_core()"
   ]
  },
  {
   "cell_type": "code",
   "execution_count": 10,
   "metadata": {
    "collapsed": false
   },
   "outputs": [
    {
     "data": {
      "text/plain": [
       "'xxx-x-xxxxxxxxxxxxxxxxxxxxx-xxxxxxx-xxxxxxxxxxxxxxxxx--xxxxxxxxxxxxxxxxxxxxx-xxxx-'"
      ]
     },
     "execution_count": 10,
     "metadata": {},
     "output_type": "execute_result"
    }
   ],
   "source": [
    "a.find_core(['CP000721.1/2204691-2204778'])"
   ]
  },
  {
   "cell_type": "markdown",
   "metadata": {},
   "source": [
    "# Find your sequence in the alignment"
   ]
  },
  {
   "cell_type": "code",
   "execution_count": 11,
   "metadata": {
    "collapsed": false
   },
   "outputs": [
    {
     "name": "stdout",
     "output_type": "stream",
     "text": [
      "Seq to find GACUCAUAUAAUCUAGAGAAUAUGGCUUUAGAAGUUUCUACCGUGUCGCCAUAAACGACACGACUAUGAGUA\n",
      "Searching...\n",
      "Match: AF270087.1/2594-2679\n",
      "ID: AF270087.1/2594-2679\n",
      "Name: AF270087.1\n",
      "Description: AF270087.1/2594-2679\n",
      "Number of features: 0\n",
      "/start=2594\n",
      "/end=2679\n",
      "/accession=AF270087.1\n",
      "Per letter annotation for: secondary_structure\n",
      "Seq('GAC-U-CAUAUAAUCUAGAGAAUAUGGCUUUAGAA-GUUUCUACCGUGUCGCC-...UA-', SingleLetterAlphabet())\n",
      "GACUCAUAUAAUCUAGAGAAUAUGGCUUUAGAAGUUUCUACCGUGUCGCCAUAAACGACACGACUAUGAGUA\n"
     ]
    },
    {
     "data": {
      "text/plain": [
       "SeqRecord(seq=Seq('GAC-U-CAUAUAAUCUAGAGAAUAUGGCUUUAGAA-GUUUCUACCGUGUCGCC-...UA-', SingleLetterAlphabet()), id='AF270087.1/2594-2679', name='AF270087.1', description='AF270087.1/2594-2679', dbxrefs=[])"
      ]
     },
     "execution_count": 11,
     "metadata": {},
     "output_type": "execute_result"
    }
   ],
   "source": [
    "# load seq from a file\n",
    "seq =  open('test_data/af27.fa').readline().strip()\n",
    "print 'Seq to find', seq\n",
    "print 'Searching...'\n",
    "# search\n",
    "a.find_seq_in_align(seq)"
   ]
  },
  {
   "cell_type": "markdown",
   "metadata": {},
   "source": [
    "Your seq has been found as \"AF270087.1/2594-2679\" in the alignment."
   ]
  },
  {
   "cell_type": "markdown",
   "metadata": {},
   "source": [
    "# Get SS for your sequence"
   ]
  },
  {
   "cell_type": "code",
   "execution_count": 17,
   "metadata": {
    "collapsed": false
   },
   "outputs": [
    {
     "name": "stdout",
     "output_type": "stream",
     "text": [
      "Match: AF270087.1/2594-2679\n",
      "ID: AF270087.1/2594-2679\n",
      "Name: AF270087.1\n",
      "Description: AF270087.1/2594-2679\n",
      "Number of features: 0\n",
      "/start=2594\n",
      "/end=2679\n",
      "/accession=AF270087.1\n",
      "Per letter annotation for: secondary_structure\n",
      "Seq('GAC-U-CAUAUAAUCUAGAGAAUAUGGCUUUAGAA-GUUUCUACCGUGUCGCC-...UA-', SingleLetterAlphabet())\n",
      "GACUCAUAUAAUCUAGAGAAUAUGGCUUUAGAAGUUUCUACCGUGUCGCCAUAAACGACACGACUAUGAGUA\n"
     ]
    },
    {
     "data": {
      "text/plain": [
       "'(((.(.((((,,,(((((((_______.))))))).,,,,,,,,(((((((__.._____))))))...),,)))).)))).'"
      ]
     },
     "execution_count": 17,
     "metadata": {},
     "output_type": "execute_result"
    }
   ],
   "source": [
    "hit = a.find_seq_in_align(seq)\n",
    "hit.ss"
   ]
  },
  {
   "cell_type": "code",
   "execution_count": 18,
   "metadata": {
    "collapsed": false
   },
   "outputs": [
    {
     "name": "stdout",
     "output_type": "stream",
     "text": [
      "ID: AF270087.1/2594-2679\n",
      "Name: AF270087.1\n",
      "Description: AF270087.1/2594-2679\n",
      "Number of features: 0\n",
      "/start=2594\n",
      "/end=2679\n",
      "/accession=AF270087.1\n",
      "Per letter annotation for: secondary_structure\n",
      "Seq('GAC-U-CAUAUAAUCUAGAGAAUAUGGCUUUAGAA-GUUUCUACCGUGUCGCC-...UA-', SingleLetterAlphabet())\n"
     ]
    }
   ],
   "source": [
    "print hit"
   ]
  },
  {
   "cell_type": "code",
   "execution_count": 23,
   "metadata": {
    "collapsed": false
   },
   "outputs": [],
   "source": [
    "hit2 = a.get_seq('AF270087.1/2594-2679')"
   ]
  },
  {
   "cell_type": "code",
   "execution_count": 24,
   "metadata": {
    "collapsed": false
   },
   "outputs": [
    {
     "data": {
      "text/plain": [
       "Seq('GAC-U-CAUAUAAUCUAGAGAAUAUGGCUUUAGAA-GUUUCUACCGUGUCGCC-...UA-', SingleLetterAlphabet())"
      ]
     },
     "execution_count": 24,
     "metadata": {},
     "output_type": "execute_result"
    }
   ],
   "source": [
    "hit2.seq"
   ]
  },
  {
   "cell_type": "code",
   "execution_count": 25,
   "metadata": {
    "collapsed": false
   },
   "outputs": [
    {
     "data": {
      "text/plain": [
       "'(((.(.((((,,,(((((((_______.))))))).,,,,,,,,(((((((__.._____))))))...),,)))).)))).'"
      ]
     },
     "execution_count": 25,
     "metadata": {},
     "output_type": "execute_result"
    }
   ],
   "source": [
    "hit2.ss"
   ]
  },
  {
   "cell_type": "code",
   "execution_count": 26,
   "metadata": {
    "collapsed": false
   },
   "outputs": [
    {
     "data": {
      "text/plain": [
       "'(((.(.((((...(((((((........))))))).........(((((((.........))))))...)..)))).)))).'"
      ]
     },
     "execution_count": 26,
     "metadata": {},
     "output_type": "execute_result"
    }
   ],
   "source": [
    "hit2.ss_clean"
   ]
  },
  {
   "cell_type": "code",
   "execution_count": 27,
   "metadata": {
    "collapsed": false
   },
   "outputs": [
    {
     "name": "stdout",
     "output_type": "stream",
     "text": [
      "UAC-U-UAUUUAUGCUGAGGAU--UGG--CUUAGC-GUCUCUACAAGACA-CC--GU-AA-UGUCU---AACAAUA-AGUA-\n",
      "(((.(.((((,,,(((((((_______.))))))).,,,,,,,,(((((((__.._____))))))...),,)))).)))).\n",
      "UAG-U-CGUAUAAGUUCGGUAAUAUGG-ACCGUUC-GUUUCUACCAGGCAACC--GUAAAAUGCCA---GGCUACG-AGCU-\n",
      "(((.(.((((,,,(((((((_______.))))))).,,,,,,,,(((((((__.._____))))))...),,)))).)))).\n",
      "ACC-U-CAUAUAAUCUUGGGAAUAUGG-CCCAUAA-GUUUCUACCCGGCAACC--GUAAAUUGCCG---GACUAUG-CAGGA\n",
      "(((.(.((((,,,(((((((_______.))))))).,,,,,,,,(((((((__.._____))))))...),,)))).)))).\n",
      "GAC-U-CAUAUAAUCUAGAGAAUAUGGCUUUAGAA-GUUUCUACCGUGUCGCC--AUAAACGACAC---GACUAUG-AGUA-\n",
      "(((.(.((((,,,(((((((_______.))))))).,,,,,,,,(((((((__.._____))))))...),,)))).)))).\n",
      "UUU-U-CAUAUAAUCGCGGGGAUAUGG-CCUGCAA-GUUUCUACCGGUUUACC--GUAAAUGAACC---GACUAUG-GAAA-\n",
      "(((.(.((((,,,(((((((_______.))))))).,,,,,,,,(((((((__.._____))))))...),,)))).)))).\n",
      "UUU-C-UGUAUAAUGCCGAUAAUAAGG-UUCGGCA-GUUUCUACCAAACAGCC--GUAAACUGUUU---GACUACA-GUAA-\n",
      "(((.(.((((,,,(((((((_______.))))))).,,,,,,,,(((((((__.._____))))))...),,)))).)))).\n",
      "CCU-U-UGUAUAUACUCGCGAAUAUGG-CGUGAGA-GUCUCUACCGGGUCACC--UUAAACGACCU---GACUAUG-AAGG-\n",
      "(((.(.((((,,,(((((((_______.))))))).,,,,,,,,(((((((__.._____))))))...),,)))).)))).\n",
      "AAA-U-CGUAUAAUAGAUCGAAUGUGG-CGGUCAA-GUUUCUACCAUAUCACC--GUAAAUGAUAU---GACUACG-AUUG-\n",
      "(((.(.((((,,,(((((((_______.))))))).,,,,,,,,(((((((__.._____))))))...),,)))).)))).\n",
      "CAU-C-CAUAUAAUCUCAAUAAUAAGG-UUUGAGA-GUCUCUACGAGAGAACC--AUAAAUUCUCU---GUCUAUG-GAUG-\n",
      "(((.(.((((,,,(((((((_______.))))))).,,,,,,,,(((((((__.._____))))))...),,)))).)))).\n",
      "GGC-C-UGUAUAAUUGGGGGAAUAGGG-CUCCCAA-GUUUCUACCGGGCAACC--GUAAAUUGCCC--UGGCUACA-GCCU-\n",
      "(((.(.((((,,,(((((((_______.))))))).,,,,,,,,(((((((__.._____))))))...),,)))).)))).\n",
      "UAU-AACAUAUAAUUUUGACAAUAUGG-GUCAUAA-GUUUCUACCGGAAUACC--GUAAAUAUUCU---GACUAUG-UAUA-\n",
      "(((.(.((((,,,(((((((_______.))))))).,,,,,,,,(((((((__.._____))))))...),,)))).)))).\n",
      "CAC-U-CGUAUAUACUCGGUAAUAUGG-UCCGAGC-GUUUCUACCUAGUUCCCAAUGAAAGAACUG---GACUACG-GGUU-\n",
      "(((.(.((((,,,(((((((_______.))))))).,,,,,,,,(((((((__.._____))))))...),,)))).)))).\n",
      "CAC-U-UAUAUAAAUCUGAUAAUAAGG-GUCGGAU-GUUUCUACCAAGCUACC--GUAAAUUGCUAUAGGACUAUA-AGUG-\n",
      "(((.(.((((,,,(((((((_______.))))))).,,,,,,,,(((((((__.._____))))))...),,)))).)))).\n"
     ]
    }
   ],
   "source": [
    "for s in a.io:\n",
    "        print s.seq\n",
    "        print s.ss"
   ]
  },
  {
   "cell_type": "code",
   "execution_count": 28,
   "metadata": {
    "collapsed": false,
    "scrolled": true
   },
   "outputs": [
    {
     "name": "stdout",
     "output_type": "stream",
     "text": [
      "UACUUAUUUAUGCUGAGGAUUGGCUUAGCGUCUCUACAAGACACCGUAAUGUCUAACAAUAAGUA\n",
      "((((((((...(((((((.....))))))........((((((......))))))..))))))))\n",
      "UAGUCGUAUAAGUUCGGUAAUAUGGACCGUUCGUUUCUACCAGGCAACCGUAAAAUGCCAGGCUACGAGCU\n",
      "((((((((...(((((((.......)))))))........(((((((.......)))))))..))))))))\n",
      "ACCUCAUAUAAUCUUGGGAAUAUGGCCCAUAAGUUUCUACCCGGCAACCGUAAAUUGCCGGACUAUGCAGGA\n",
      "((((((((...(((((((.......)))))))........(((((((.......)))))))..)))))))).\n",
      "GACUCAUAUAAUCUAGAGAAUAUGGCUUUAGAAGUUUCUACCGUGUCGCCAUAAACGACACGACUAUGAGUA\n",
      "((((((((...(((((((........)))))))........(((((((.......)))))))..))))))))\n",
      "UUUUCAUAUAAUCGCGGGGAUAUGGCCUGCAAGUUUCUACCGGUUUACCGUAAAUGAACCGACUAUGGAAA\n",
      "((((((((...(((((((.......)))))))........(((((((.......)))))))..))))))))\n",
      "UUUCUGUAUAAUGCCGAUAAUAAGGUUCGGCAGUUUCUACCAAACAGCCGUAAACUGUUUGACUACAGUAA\n",
      "((((((((...(((((((.......)))))))........(((((((.......)))))))..))))))))\n",
      "CCUUUGUAUAUACUCGCGAAUAUGGCGUGAGAGUCUCUACCGGGUCACCUUAAACGACCUGACUAUGAAGG\n",
      "((((((((...(((((((.......)))))))........(((((((.......)))))))..))))))))\n",
      "AAAUCGUAUAAUAGAUCGAAUGUGGCGGUCAAGUUUCUACCAUAUCACCGUAAAUGAUAUGACUACGAUUG\n",
      "((((((((...(((((((.......)))))))........(((((((.......)))))))..))))))))\n",
      "CAUCCAUAUAAUCUCAAUAAUAAGGUUUGAGAGUCUCUACGAGAGAACCAUAAAUUCUCUGUCUAUGGAUG\n",
      "((((((((...(((((((.......)))))))........(((((((.......)))))))..))))))))\n",
      "GGCCUGUAUAAUUGGGGGAAUAGGGCUCCCAAGUUUCUACCGGGCAACCGUAAAUUGCCCUGGCUACAGCCU\n",
      "((((((((...(((((((.......)))))))........(((((((.......)))))).)..))))))))\n",
      "UAUAACAUAUAAUUUUGACAAUAUGGGUCAUAAGUUUCUACCGGAAUACCGUAAAUAUUCUGACUAUGUAUA\n",
      "((((.((((...(((((((.......)))))))........(((((((.......)))))))..))))))))\n",
      "CACUCGUAUAUACUCGGUAAUAUGGUCCGAGCGUUUCUACCUAGUUCCCAAUGAAAGAACUGGACUACGGGUU\n",
      "((((((((...(((((((.......)))))))........(((((((.........)))))))..))))))))\n",
      "CACUUAUAUAAAUCUGAUAAUAAGGGUCGGAUGUUUCUACCAAGCUACCGUAAAUUGCUAUAGGACUAUAAGUG\n",
      "((((((((...(((((((.......)))))))........(((((((.......))))))...)..))))))))\n"
     ]
    }
   ],
   "source": [
    "for s in a.io:\n",
    "        print s.seq_nogaps\n",
    "        print s.ss_nogaps"
   ]
  },
  {
   "cell_type": "code",
   "execution_count": 29,
   "metadata": {
    "collapsed": false
   },
   "outputs": [
    {
     "data": {
      "text/plain": [
       "'(((.(.((((,,,(((((((_______.))))))).,,,,,,,,(((((((__.._____))))))...),,)))).)))).'"
      ]
     },
     "execution_count": 29,
     "metadata": {},
     "output_type": "execute_result"
    }
   ],
   "source": [
    "s.ss"
   ]
  },
  {
   "cell_type": "code",
   "execution_count": 30,
   "metadata": {
    "collapsed": false
   },
   "outputs": [
    {
     "data": {
      "text/plain": [
       "'(((.(.((((...(((((((........))))))).........(((((((.........))))))...)..)))).)))).'"
      ]
     },
     "execution_count": 30,
     "metadata": {},
     "output_type": "execute_result"
    }
   ],
   "source": [
    "s.ss_clean"
   ]
  },
  {
   "cell_type": "code",
   "execution_count": 31,
   "metadata": {
    "collapsed": false
   },
   "outputs": [
    {
     "data": {
      "text/plain": [
       "'((((((((...(((((((.......)))))))........(((((((.......))))))...)..))))))))'"
      ]
     },
     "execution_count": 31,
     "metadata": {},
     "output_type": "execute_result"
    }
   ],
   "source": [
    "s.ss_nogaps"
   ]
  },
  {
   "cell_type": "code",
   "execution_count": null,
   "metadata": {
    "collapsed": true
   },
   "outputs": [],
   "source": []
  }
 ],
 "metadata": {
  "kernelspec": {
   "display_name": "Python 2",
   "language": "python",
   "name": "python2"
  },
  "language_info": {
   "codemirror_mode": {
    "name": "ipython",
    "version": 2
   },
   "file_extension": ".py",
   "mimetype": "text/x-python",
   "name": "python",
   "nbconvert_exporter": "python",
   "pygments_lexer": "ipython2",
   "version": "2.7.12"
  }
 },
 "nbformat": 4,
 "nbformat_minor": 2
}
