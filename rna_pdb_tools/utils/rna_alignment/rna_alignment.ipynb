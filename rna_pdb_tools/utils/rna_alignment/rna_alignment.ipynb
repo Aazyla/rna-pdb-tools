{
 "cells": [
  {
   "cell_type": "code",
   "execution_count": 43,
   "metadata": {
    "collapsed": false
   },
   "outputs": [],
   "source": [
    "import rna_alignment as ra; reload(ra);"
   ]
  },
  {
   "cell_type": "markdown",
   "metadata": {},
   "source": [
    "# Load an alignment in the Stockholm format"
   ]
  },
  {
   "cell_type": "code",
   "execution_count": 80,
   "metadata": {
    "collapsed": false
   },
   "outputs": [
    {
     "name": "stdout",
     "output_type": "stream",
     "text": [
      "Help on class RNAalignment in module rna_alignment:\n",
      "\n",
      "class RNAalignment\n",
      " |  RNA alignment - adapter class around BioPython to do RNA stuff\n",
      " |  \n",
      " |  :var self.io: ``AlignIO.read(fn, \"stockholm\")``\n",
      " |  \n",
      " |  Read more: http://biopython.org/DIST/docs/api/Bio.AlignIO.StockholmIO-module.html\n",
      " |  \n",
      " |  Methods defined here:\n",
      " |  \n",
      " |  __getitem__(self, i)\n",
      " |  \n",
      " |  __init__(self, fn)\n",
      " |  \n",
      " |  __len__(self)\n",
      " |  \n",
      " |  __repr__(self)\n",
      " |  \n",
      " |  align_seq(self, seq)\n",
      " |      :var self.rf: string, ``.g.gc.aGAGUAGggugccgugcGUuA............``\n",
      " |      :param seq: string, ``-GGAGAGUA-GAUGAUUCGCGUUAAGUGUGUGUGA-AUGGGAUGUC...``\n",
      " |      :return nseq: seq seq, seq that can be inserted into alignemnt, ``.-.GG.AGAGUA-GAUGAUUCGCGUUA`` ! . -> -\n",
      " |  \n",
      " |  copy_ss_cons_to_all(self)\n",
      " |  \n",
      " |  copy_ss_cons_to_all_editing_sequence(self, seq_id, before, after)\n",
      " |      Change a sequence's sec structure.\n",
      " |      \n",
      " |      :param seq_id: string, sequence id to change, eg: ``AE009948.1/1094322-1094400``\n",
      " |      :param before: string, character to change from, eg: ``,``\n",
      " |      :param after: string, character to change to, eg: ``.``\n",
      " |      \n",
      " |      .. warning:: before and after has to be one character long\n",
      " |  \n",
      " |  describe(self)\n",
      " |      Describe the alignment.\n",
      " |      \n",
      " |      >>> print a.describe()\n",
      " |      SingleLetterAlphabet() alignment with 13 rows and 82 columns\n",
      " |  \n",
      " |  find_core(self, ids=None)\n",
      " |      Find common core for ids.\n",
      " |      \n",
      " |      :param id: list, ids of seq in the alignment to use\n",
      " |  \n",
      " |  find_seq(self, seq, verbose=False)\n",
      " |      Find seq (also subsequences) and reverse in the alignment.\n",
      " |      \n",
      " |          seq = \"ggaucgcugaacccgaaaggggcgggggacccagaaauggggcgaaucucuuccgaaaggaagaguaggguuacuccuucgacccgagcccgucagcuaaccucgcaagcguccgaaggagaauc\"\n",
      " |          hit = a.find_seq(seq, verbose=False)\n",
      " |          ggaucgcugaacccgaaaggggcgggggacccagaaauggggcgaaucucuuccgaaaggaagaguaggguuacuccuucgacccgagcccgucagcuaaccucgcaagcguccgaaggagaauc\n",
      " |          Match: AL939120.1/174742-174619\n",
      " |          ID: AL939120.1/174742-174619\n",
      " |          Name: AL939120.1\n",
      " |          Description: AL939120.1/174742-174619\n",
      " |          Number of features: 0\n",
      " |          /start=174742\n",
      " |          /end=174619\n",
      " |          /accession=AL939120.1\n",
      " |          Per letter annotation for: secondary_structure\n",
      " |          Seq('CCAGGUAAGUCGCC-G-C--ACCG---------------GUCA-----------...GGA', SingleLetterAlphabet())\n",
      " |          GGAUCGCUGAACCCGAAAGGGGCGGGGGACCCAGAAAUGGGGCGAAUCUCUUCCGAAAGGAAGAGUAGGGUUACUCCUUCGACCCGAGCCCGUCAGCUAACCUCGCAAGCGUCCGAAGGAGAAUC\n",
      " |      \n",
      " |      :param seq: string, seq, seq is upper()\n",
      " |      :param verbose: boolean, be verbose or not\n",
      " |  \n",
      " |  format_annotation(self, t)\n",
      " |  \n",
      " |  get_clean_ss(self, ss)\n",
      " |  \n",
      " |  get_gc_rf(self)\n",
      " |      #=GC RF\n",
      " |  \n",
      " |  get_gc_rf_cons(self, verbose=False)\n",
      " |      #=GC RF_cons\n",
      " |  \n",
      " |  get_seq(self, seq_id)\n",
      " |  \n",
      " |  get_seq_ss(self, seq_id)\n",
      " |  \n",
      " |  get_seq_with_name(self, seq_name)\n",
      " |  \n",
      " |  get_shift_seq_in_align(self)\n",
      " |      RF_cons vs '#=GC RF' ???\n",
      " |  \n",
      " |  get_ss_cons(self)\n",
      " |  \n",
      " |  get_ss_remove_gaps(self, seq, ss)\n",
      " |      :param seq: string, sequence\n",
      " |      :param ss: string, ss\n",
      " |      \n",
      " |      UAU-AACAUAUAAUUUUGACAAUAUGG-GUCAUAA-GUUUCUACCGGAAUACC--GUAAAUAUUCU---GACUAUG-UAUA-\n",
      " |      (((.(.((((,,,(((((((_______.))))))).,,,,,,,,(((((((__.._____))))))...),,)))).)))).\n",
      " |  \n",
      " |  head(self)\n",
      " |  \n",
      " |  map_seq_on_align(self, seq_id, resis, v=True)\n",
      " |      :param seqid: seq_id, 'CP000721.1/2204691-2204775'\n",
      " |      :param resis: list resis, [5,6]\n",
      " |      \n",
      " |      maps::\n",
      " |      \n",
      " |          [5, 6, 8]\n",
      " |          CAC-U\n",
      " |          CAC-U-\n",
      " |          CAC-U-UA\n",
      " |          [4, None, 6]\n",
      " |  \n",
      " |  map_seq_on_seq(self, seq_id, seq_id_target, resis, v=True)\n",
      " |      :param seq_id: seq_id, 'AAML04000013.1/228868-228953'\n",
      " |      :param seq_id_target: seq_id of target, 'CP000721.1/2204691-2204778'\n",
      " |      :param resis: list resis, [5,6]\n",
      " |      \n",
      " |      map::\n",
      " |      \n",
      " |          [4, 5, 6]\n",
      " |          UAU-A\n",
      " |          UAU-AA\n",
      " |          UAU-AAC\n",
      " |          [5, 6, 7]\n",
      " |          CAC-U\n",
      " |          CAC-U-\n",
      " |          CAC-U-U\n",
      " |          [4, None, 5]\n",
      " |  \n",
      " |  remove_empty_columns(self, verbose=False)\n",
      " |      go over all seq\n",
      " |  \n",
      " |  subset(self, ids, verbose=False)\n",
      " |      Get subset for ids::\n",
      " |      \n",
      " |      # STOCKHOLM 1.0\n",
      " |      #=GF WK Tetrahydrofolate_riboswitch\n",
      " |      ..\n",
      " |      AAQK01002704.1/947-1059              -U-GC-AAAAUAGGUUUCCAUGC..\n",
      " |      #=GC SS_cons                         .(.((.((----((((((((((...\n",
      " |      #=GC RF                              .g.gc.aGAGUAGggugccgugc..\n",
      " |      //\n",
      " |  \n",
      " |  tail(self)\n",
      " |  \n",
      " |  write(self, fn, verbose=True)\n",
      " |      Write the alignment to a file\n",
      "\n",
      "SingleLetterAlphabet() alignment with 13 rows and 82 columns\n",
      "UAC-U-UAUUUAUGCUGAGGAU--UGG--CUUAGC-GUCUCUAC...UA- AE009948.1/1094322-1094400\n",
      "UAG-U-CGUAUAAGUUCGGUAAUAUGG-ACCGUUC-GUUUCUAC...CU- AL591975.1/251136-251218\n",
      "ACC-U-CAUAUAAUCUUGGGAAUAUGG-CCCAUAA-GUUUCUAC...GGA U51115.1/15606-15691\n",
      "GAC-U-CAUAUAAUCUAGAGAAUAUGGCUUUAGAA-GUUUCUAC...UA- AF270087.1/2594-2679\n",
      "UUU-U-CAUAUAAUCGCGGGGAUAUGG-CCUGCAA-GUUUCUAC...AA- BA000028.3/1103960-1104044\n",
      "UUU-C-UGUAUAAUGCCGAUAAUAAGG-UUCGGCA-GUUUCUAC...AA- CP000879.1/2164462-2164546\n",
      "CCU-U-UGUAUAUACUCGCGAAUAUGG-CGUGAGA-GUCUCUAC...GG- CP001022.1/459677-459761\n",
      "AAA-U-CGUAUAAUAGAUCGAAUGUGG-CGGUCAA-GUUUCUAC...UG- AACY020193176.1/1629-1713\n",
      "CAU-C-CAUAUAAUCUCAAUAAUAAGG-UUUGAGA-GUCUCUAC...UG- ABDP01000002.1/29705-29789\n",
      "GGC-C-UGUAUAAUUGGGGGAAUAGGG-CUCCCAA-GUUUCUAC...CU- CP000232.1/2146033-2146118\n",
      "UAU-AACAUAUAAUUUUGACAAUAUGG-GUCAUAA-GUUUCUAC...UA- AAML04000013.1/228868-228953\n",
      "CAC-U-CGUAUAUACUCGGUAAUAUGG-UCCGAGC-GUUUCUAC...UU- CP000903.1/3101736-3101822\n",
      "CAC-U-UAUAUAAAUCUGAUAAUAAGG-GUCGGAU-GUUUCUAC...UG- CP000721.1/2204691-2204778\n"
     ]
    }
   ],
   "source": [
    "a = ra.RNAalignment('test_data/RF00167.stockholm.sto')\n",
    "help(ra.RNAalignment)\n",
    "print a"
   ]
  },
  {
   "cell_type": "markdown",
   "metadata": {},
   "source": [
    "Get the first seq of the alignment."
   ]
  },
  {
   "cell_type": "code",
   "execution_count": 4,
   "metadata": {
    "collapsed": false
   },
   "outputs": [
    {
     "name": "stdout",
     "output_type": "stream",
     "text": [
      "ID: AE009948.1/1094322-1094400\n",
      "Name: AE009948.1\n",
      "Description: AE009948.1/1094322-1094400\n",
      "Number of features: 0\n",
      "/start=1094322\n",
      "/end=1094400\n",
      "/accession=AE009948.1\n",
      "Per letter annotation for: secondary_structure\n",
      "Seq('UAC-U-UAUUUAUGCUGAGGAU--UGG--CUUAGC-GUCUCUACAAGACA-CC-...UA-', SingleLetterAlphabet())\n"
     ]
    }
   ],
   "source": [
    "seq = a.io[0]\n",
    "print seq"
   ]
  },
  {
   "cell_type": "code",
   "execution_count": 5,
   "metadata": {
    "collapsed": false
   },
   "outputs": [
    {
     "name": "stdout",
     "output_type": "stream",
     "text": [
      "U-UAUU\n"
     ]
    }
   ],
   "source": [
    "#slice a seq\n",
    "print seq.seq[4:10]"
   ]
  },
  {
   "cell_type": "code",
   "execution_count": 8,
   "metadata": {
    "collapsed": false
   },
   "outputs": [
    {
     "name": "stdout",
     "output_type": "stream",
     "text": [
      ">AE009948.1/1094322-1094400\n",
      "UAC-U-UAUUUAUGCUGAGGAU--UGG--CUUAGC-GUCUCUACAAGACA-CC--GU-AA\n",
      "-UGUCU---AACAAUA-AGUA-\n",
      ">AL591975.1/251136-251218\n",
      "UAG-U-CGUAUAAGUUCGGUAAUAUGG-ACCGUUC-GUUUCUACCAGGCAACC--GUAAA\n",
      "AUGCCA---GGCUACG-AGCU-\n",
      ">U51115.1/15606-15691\n",
      "ACC-U-CAUAUAAUCUUGGGAAUAUGG-CCCAUAA-GUUUCUACCCGGCAACC--GUAAA\n",
      "UUGCCG---GACUAUG-CAGGA\n",
      ">AF270087.1/2594-2679\n",
      "GAC-U-CAUAUAAUCUAGAGAAUAUGGCUUUAGAA-GUUUCUACCGUGUCGCC--AUAAA\n",
      "CGACAC---GACUAUG-AGUA-\n",
      ">BA000028.3/1103960-1104044\n",
      "UUU-U-CAUAUAAUCGCGGGGAUAUGG-CCUGCAA-GUUUCUACCGGUUUACC--GUAAA\n",
      "UGAACC---GACUAUG-GAAA-\n",
      ">CP000879.1/2164462-2164546\n",
      "UUU-C-UGUAUAAUGCCGAUAAUAAGG-UUCGGCA-GUUUCUACCAAACAGCC--GUAAA\n",
      "CUGUUU---GACUACA-GUAA-\n",
      ">CP001022.1/459677-459761\n",
      "CCU-U-UGUAUAUACUCGCGAAUAUGG-CGUGAGA-GUCUCUACCGGGUCACC--UUAAA\n",
      "CGACCU---GACUAUG-AAGG-\n",
      ">AACY020193176.1/1629-1713\n",
      "AAA-U-CGUAUAAUAGAUCGAAUGUGG-CGGUCAA-GUUUCUACCAUAUCACC--GUAAA\n",
      "UGAUAU---GACUACG-AUUG-\n",
      ">ABDP01000002.1/29705-29789\n",
      "CAU-C-CAUAUAAUCUCAAUAAUAAGG-UUUGAGA-GUCUCUACGAGAGAACC--AUAAA\n",
      "UUCUCU---GUCUAUG-GAUG-\n",
      ">CP000232.1/2146033-2146118\n",
      "GGC-C-UGUAUAAUUGGGGGAAUAGGG-CUCCCAA-GUUUCUACCGGGCAACC--GUAAA\n",
      "UUGCCC--UGGCUACA-GCCU-\n",
      ">AAML04000013.1/228868-228953\n",
      "UAU-AACAUAUAAUUUUGACAAUAUGG-GUCAUAA-GUUUCUACCGGAAUACC--GUAAA\n",
      "UAUUCU---GACUAUG-UAUA-\n",
      ">CP000903.1/3101736-3101822\n",
      "CAC-U-CGUAUAUACUCGGUAAUAUGG-UCCGAGC-GUUUCUACCUAGUUCCCAAUGAAA\n",
      "GAACUG---GACUACG-GGUU-\n",
      ">CP000721.1/2204691-2204778\n",
      "CAC-U-UAUAUAAAUCUGAUAAUAAGG-GUCGGAU-GUUUCUACCAAGCUACC--GUAAA\n",
      "UUGCUAUAGGACUAUA-AGUG-\n",
      "\n"
     ]
    }
   ],
   "source": [
    "print a.io.format(\"fasta\")"
   ]
  },
  {
   "cell_type": "markdown",
   "metadata": {},
   "source": [
    "# Preview the alignment (head, tail, describe)"
   ]
  },
  {
   "cell_type": "code",
   "execution_count": 25,
   "metadata": {
    "collapsed": false
   },
   "outputs": [
    {
     "name": "stdout",
     "output_type": "stream",
     "text": [
      "# STOCKHOLM 1.0\n",
      "AE009948.1/1094322-1094400           UAC-U-UAUUUAUGCUGAGGAU--UGG--CUUAGC-GUCUCUACAAGACA-CC--GU-AA-UGUCU---AACAAUA-AGUA-\n",
      "AL591975.1/251136-251218             UAG-U-CGUAUAAGUUCGGUAAUAUGG-ACCGUUC-GUUUCUACCAGGCAACC--GUAAAAUGCCA---GGCUACG-AGCU-\n",
      "U51115.1/15606-15691                 ACC-U-CAUAUAAUCUUGGGAAUAUGG-CCCAUAA-GUUUCUACCCGGCAACC--GUAAAUUGCCG---GACUAUG-CAGGA\n",
      "AF270087.1/2594-2679                 GAC-U-CAUAUAAUCUAGAGAAUAUGGCUUUAGAA-GUUUCUACCGUGUCGCC--AUAAACGACAC---GACUAUG-AGUA-\n"
     ]
    }
   ],
   "source": [
    "print a.head()"
   ]
  },
  {
   "cell_type": "code",
   "execution_count": 26,
   "metadata": {
    "collapsed": false
   },
   "outputs": [
    {
     "name": "stdout",
     "output_type": "stream",
     "text": [
      "CP000721.1/2204691-2204778           CAC-U-UAUAUAAAUCUGAUAAUAAGG-GUCGGAU-GUUUCUACCAAGCUACC--GUAAAUUGCUAUAGGACUAUA-AGUG-\n",
      "#=GC SS_cons                         (((.(.((((,,,(((((((_______.))))))).,,,,,,,,(((((((__.._____))))))...),,)))).)))).\n",
      "#=GC RF                              ccc.u.CgUAUAAucccgggAAUAUGG.cccggga.GUUUCUACCaggcagCC..GUAAAcugccu...GACUAcG.aggg.\n",
      "//\n",
      "\n"
     ]
    }
   ],
   "source": [
    "print a.tail()"
   ]
  },
  {
   "cell_type": "code",
   "execution_count": 27,
   "metadata": {
    "collapsed": false
   },
   "outputs": [
    {
     "name": "stdout",
     "output_type": "stream",
     "text": [
      "SingleLetterAlphabet() alignment with 13 rows and 82 columns\n"
     ]
    }
   ],
   "source": [
    "print a.describe()"
   ]
  },
  {
   "cell_type": "code",
   "execution_count": 28,
   "metadata": {
    "collapsed": false
   },
   "outputs": [
    {
     "name": "stdout",
     "output_type": "stream",
     "text": [
      "AE009948.1/1094322-1094400\n",
      "AL591975.1/251136-251218\n",
      "U51115.1/15606-15691\n",
      "AF270087.1/2594-2679\n",
      "BA000028.3/1103960-1104044\n",
      "CP000879.1/2164462-2164546\n",
      "CP001022.1/459677-459761\n",
      "AACY020193176.1/1629-1713\n",
      "ABDP01000002.1/29705-29789\n",
      "CP000232.1/2146033-2146118\n",
      "AAML04000013.1/228868-228953\n",
      "CP000903.1/3101736-3101822\n",
      "CP000721.1/2204691-2204778\n"
     ]
    }
   ],
   "source": [
    "# print all seq_ids and seq of alignment\n",
    "for s in a:\n",
    "    print s"
   ]
  },
  {
   "cell_type": "code",
   "execution_count": 32,
   "metadata": {
    "collapsed": false
   },
   "outputs": [
    {
     "name": "stdout",
     "output_type": "stream",
     "text": [
      "AE009948.1/1094322-1094400\n",
      "UAC-U-UAUUUAUGCUGAGGAU--UGG--CUUAGC-GUCUCUACAAGACA-CC--GU-AA-UGUCU---AACAAUA-AGUA-\n",
      "AL591975.1/251136-251218\n",
      "UAG-U-CGUAUAAGUUCGGUAAUAUGG-ACCGUUC-GUUUCUACCAGGCAACC--GUAAAAUGCCA---GGCUACG-AGCU-\n",
      "U51115.1/15606-15691\n",
      "ACC-U-CAUAUAAUCUUGGGAAUAUGG-CCCAUAA-GUUUCUACCCGGCAACC--GUAAAUUGCCG---GACUAUG-CAGGA\n",
      "AF270087.1/2594-2679\n",
      "GAC-U-CAUAUAAUCUAGAGAAUAUGGCUUUAGAA-GUUUCUACCGUGUCGCC--AUAAACGACAC---GACUAUG-AGUA-\n",
      "BA000028.3/1103960-1104044\n",
      "UUU-U-CAUAUAAUCGCGGGGAUAUGG-CCUGCAA-GUUUCUACCGGUUUACC--GUAAAUGAACC---GACUAUG-GAAA-\n",
      "CP000879.1/2164462-2164546\n",
      "UUU-C-UGUAUAAUGCCGAUAAUAAGG-UUCGGCA-GUUUCUACCAAACAGCC--GUAAACUGUUU---GACUACA-GUAA-\n",
      "CP001022.1/459677-459761\n",
      "CCU-U-UGUAUAUACUCGCGAAUAUGG-CGUGAGA-GUCUCUACCGGGUCACC--UUAAACGACCU---GACUAUG-AAGG-\n",
      "AACY020193176.1/1629-1713\n",
      "AAA-U-CGUAUAAUAGAUCGAAUGUGG-CGGUCAA-GUUUCUACCAUAUCACC--GUAAAUGAUAU---GACUACG-AUUG-\n",
      "ABDP01000002.1/29705-29789\n",
      "CAU-C-CAUAUAAUCUCAAUAAUAAGG-UUUGAGA-GUCUCUACGAGAGAACC--AUAAAUUCUCU---GUCUAUG-GAUG-\n",
      "CP000232.1/2146033-2146118\n",
      "GGC-C-UGUAUAAUUGGGGGAAUAGGG-CUCCCAA-GUUUCUACCGGGCAACC--GUAAAUUGCCC--UGGCUACA-GCCU-\n",
      "AAML04000013.1/228868-228953\n",
      "UAU-AACAUAUAAUUUUGACAAUAUGG-GUCAUAA-GUUUCUACCGGAAUACC--GUAAAUAUUCU---GACUAUG-UAUA-\n",
      "CP000903.1/3101736-3101822\n",
      "CAC-U-CGUAUAUACUCGGUAAUAUGG-UCCGAGC-GUUUCUACCUAGUUCCCAAUGAAAGAACUG---GACUACG-GGUU-\n",
      "CP000721.1/2204691-2204778\n",
      "CAC-U-UAUAUAAAUCUGAUAAUAAGG-GUCGGAU-GUUUCUACCAAGCUACC--GUAAAUUGCUAUAGGACUAUA-AGUG-\n"
     ]
    }
   ],
   "source": [
    "# print all seq_ids and seq of alignment\n",
    "for s in a:\n",
    "    print s.id\n",
    "    print s.seq"
   ]
  },
  {
   "cell_type": "markdown",
   "metadata": {},
   "source": [
    "# Subset"
   ]
  },
  {
   "cell_type": "code",
   "execution_count": 47,
   "metadata": {
    "collapsed": false
   },
   "outputs": [
    {
     "name": "stdout",
     "output_type": "stream",
     "text": [
      "Saved to  /var/folders/yc/ssr9692s5fzf7k165grnhpk80000gp/T/tmpGPuJf0.stk\n",
      "[AACY020193176.1/1629-1713, CP000903.1/3101736-3101822, CP000721.1/2204691-2204778]\n",
      "\n",
      "Show me seqs of my subset:\n",
      "\n",
      "AACY020193176.1/1629-1713 AAA-U-CGUAUAAUAGAUCGAAUGUGG-CGGUCAA-GUUUCUACCAUAUCACC--GUAAAUGAUAU---GACUACG-AUUG-\n",
      "CP000903.1/3101736-3101822 CAC-U-CGUAUAUACUCGGUAAUAUGG-UCCGAGC-GUUUCUACCUAGUUCCCAAUGAAAGAACUG---GACUACG-GGUU-\n",
      "CP000721.1/2204691-2204778 CAC-U-UAUAUAAAUCUGAUAAUAAGG-GUCGGAU-GUUUCUACCAAGCUACC--GUAAAUUGCUAUAGGACUAUA-AGUG-\n",
      "Save to  test_output/RF00167_subset.sto\n",
      "\n",
      "# STOCKHOLM 1.0\r\n",
      "AACY020193176.1/1629-1713   AAA-U-CGUAUAAUAGAUCGAAUGUGG-CGGUCAA-GUUUCUACCAUAUCACC--GUAAAUGAUAU---GACUACG-AUUG-\r\n",
      "CP000903.1/3101736-3101822  CAC-U-CGUAUAUACUCGGUAAUAUGG-UCCGAGC-GUUUCUACCUAGUUCCCAAUGAAAGAACUG---GACUACG-GGUU-\r\n",
      "CP000721.1/2204691-2204778  CAC-U-UAUAUAAAUCUGAUAAUAAGG-GUCGGAU-GUUUCUACCAAGCUACC--GUAAAUUGCUAUAGGACUAUA-AGUG-\r\n",
      "#=GC SS_cons                (((.(.((((,,,(((((((_______.))))))).,,,,,,,,(((((((__.._____))))))...),,)))).)))).\r\n",
      "//"
     ]
    }
   ],
   "source": [
    "subset = a.subset([\"CP000721.1/2204691-2204778\",\n",
    "          \"AACY020193176.1/1629-1713\",\n",
    "          \"CP000903.1/3101736-3101822\"])\n",
    "\n",
    "print\n",
    "print 'Show me seqs of my subset:'\n",
    "print\n",
    "\n",
    "for s in subset:\n",
    "    print s.id, s.seq\n",
    "    \n",
    "subset.write('test_output/RF00167_subset.sto')\n",
    "print\n",
    "%cat test_output/RF00167_subset.sto"
   ]
  },
  {
   "cell_type": "markdown",
   "metadata": {},
   "source": [
    "# Slice your sequence"
   ]
  },
  {
   "cell_type": "code",
   "execution_count": 51,
   "metadata": {
    "collapsed": false
   },
   "outputs": [
    {
     "name": "stdout",
     "output_type": "stream",
     "text": [
      "AACY020193176.1/1629-1713_slice\n",
      "AAA-U-CGUA\n"
     ]
    }
   ],
   "source": [
    "s = subset[0] # first seq of subset (alignment)\n",
    "sliced = s[:10]\n",
    "print sliced.id\n",
    "print sliced.seq"
   ]
  },
  {
   "cell_type": "markdown",
   "metadata": {},
   "source": [
    "# Mapping"
   ]
  },
  {
   "cell_type": "code",
   "execution_count": 10,
   "metadata": {
    "collapsed": false
   },
   "outputs": [
    {
     "name": "stdout",
     "output_type": "stream",
     "text": [
      "[5, 6]\n",
      "CAC-U\n",
      "CAC-U-\n"
     ]
    },
    {
     "data": {
      "text/plain": [
       "[4, None]"
      ]
     },
     "execution_count": 10,
     "metadata": {},
     "output_type": "execute_result"
    }
   ],
   "source": [
    "a.map_seq_on_align('CP000721.1/2204691-2204778', [5,6])"
   ]
  },
  {
   "cell_type": "markdown",
   "metadata": {},
   "source": [
    "# Find a conserved core in the alignment."
   ]
  },
  {
   "cell_type": "code",
   "execution_count": 11,
   "metadata": {
    "collapsed": false
   },
   "outputs": [
    {
     "data": {
      "text/plain": [
       "'xxx-x-xxxxxxxxxxxxxxxx--xxx--xxxxxx-xxxxxxxxxxxxxx-xx--xx-xx-xxxxx---xxxxxxx-xxxx-'"
      ]
     },
     "execution_count": 11,
     "metadata": {},
     "output_type": "execute_result"
    }
   ],
   "source": [
    "a.find_core()"
   ]
  },
  {
   "cell_type": "code",
   "execution_count": 12,
   "metadata": {
    "collapsed": false
   },
   "outputs": [
    {
     "data": {
      "text/plain": [
       "'xxx-x-xxxxxxxxxxxxxxxxxxxxx-xxxxxxx-xxxxxxxxxxxxxxxxx--xxxxxxxxxxxxxxxxxxxxx-xxxx-'"
      ]
     },
     "execution_count": 12,
     "metadata": {},
     "output_type": "execute_result"
    }
   ],
   "source": [
    "a.find_core(['CP000721.1/2204691-2204778'])"
   ]
  },
  {
   "cell_type": "markdown",
   "metadata": {},
   "source": [
    "# Find your sequence in the alignment"
   ]
  },
  {
   "cell_type": "code",
   "execution_count": 13,
   "metadata": {
    "collapsed": false
   },
   "outputs": [
    {
     "name": "stdout",
     "output_type": "stream",
     "text": [
      "Seq to find GACUCAUAUAAUCUAGAGAAUAUGGCUUUAGAAGUUUCUACCGUGUCGCCAUAAACGACACGACUAUGAGUA\n",
      "Searching...\n",
      "Match: AF270087.1/2594-2679\n",
      "ID: AF270087.1/2594-2679\n",
      "Name: AF270087.1\n",
      "Description: AF270087.1/2594-2679\n",
      "Number of features: 0\n",
      "/start=2594\n",
      "/end=2679\n",
      "/accession=AF270087.1\n",
      "Per letter annotation for: secondary_structure\n",
      "Seq('GAC-U-CAUAUAAUCUAGAGAAUAUGGCUUUAGAA-GUUUCUACCGUGUCGCC-...UA-', SingleLetterAlphabet())\n",
      "GACUCAUAUAAUCUAGAGAAUAUGGCUUUAGAAGUUUCUACCGUGUCGCCAUAAACGACACGACUAUGAGUA\n"
     ]
    },
    {
     "data": {
      "text/plain": [
       "SeqRecord(seq=Seq('GAC-U-CAUAUAAUCUAGAGAAUAUGGCUUUAGAA-GUUUCUACCGUGUCGCC-...UA-', SingleLetterAlphabet()), id='AF270087.1/2594-2679', name='AF270087.1', description='AF270087.1/2594-2679', dbxrefs=[])"
      ]
     },
     "execution_count": 13,
     "metadata": {},
     "output_type": "execute_result"
    }
   ],
   "source": [
    "# load seq from a file\n",
    "seq =  open('test_data/af27.fa').readline().strip()\n",
    "print 'Seq to find', seq\n",
    "print 'Searching...'\n",
    "# search\n",
    "a.find_seq(seq)"
   ]
  },
  {
   "cell_type": "markdown",
   "metadata": {},
   "source": [
    "Your seq has been found as \"AF270087.1/2594-2679\" in the alignment."
   ]
  },
  {
   "cell_type": "markdown",
   "metadata": {},
   "source": [
    "# Get SS for your sequence"
   ]
  },
  {
   "cell_type": "code",
   "execution_count": 14,
   "metadata": {
    "collapsed": false
   },
   "outputs": [
    {
     "name": "stdout",
     "output_type": "stream",
     "text": [
      "Match: AF270087.1/2594-2679\n",
      "ID: AF270087.1/2594-2679\n",
      "Name: AF270087.1\n",
      "Description: AF270087.1/2594-2679\n",
      "Number of features: 0\n",
      "/start=2594\n",
      "/end=2679\n",
      "/accession=AF270087.1\n",
      "Per letter annotation for: secondary_structure\n",
      "Seq('GAC-U-CAUAUAAUCUAGAGAAUAUGGCUUUAGAA-GUUUCUACCGUGUCGCC-...UA-', SingleLetterAlphabet())\n",
      "GACUCAUAUAAUCUAGAGAAUAUGGCUUUAGAAGUUUCUACCGUGUCGCCAUAAACGACACGACUAUGAGUA\n"
     ]
    },
    {
     "data": {
      "text/plain": [
       "'(((.(.((((,,,(((((((_______.))))))).,,,,,,,,(((((((__.._____))))))...),,)))).)))).'"
      ]
     },
     "execution_count": 14,
     "metadata": {},
     "output_type": "execute_result"
    }
   ],
   "source": [
    "hit = a.find_seq(seq)\n",
    "hit.ss"
   ]
  },
  {
   "cell_type": "code",
   "execution_count": 15,
   "metadata": {
    "collapsed": false
   },
   "outputs": [
    {
     "name": "stdout",
     "output_type": "stream",
     "text": [
      "ID: AF270087.1/2594-2679\n",
      "Name: AF270087.1\n",
      "Description: AF270087.1/2594-2679\n",
      "Number of features: 0\n",
      "/start=2594\n",
      "/end=2679\n",
      "/accession=AF270087.1\n",
      "Per letter annotation for: secondary_structure\n",
      "Seq('GAC-U-CAUAUAAUCUAGAGAAUAUGGCUUUAGAA-GUUUCUACCGUGUCGCC-...UA-', SingleLetterAlphabet())\n"
     ]
    }
   ],
   "source": [
    "print hit"
   ]
  },
  {
   "cell_type": "code",
   "execution_count": 16,
   "metadata": {
    "collapsed": false
   },
   "outputs": [],
   "source": [
    "hit2 = a.get_seq('AF270087.1/2594-2679')"
   ]
  },
  {
   "cell_type": "code",
   "execution_count": 17,
   "metadata": {
    "collapsed": false
   },
   "outputs": [
    {
     "data": {
      "text/plain": [
       "Seq('GAC-U-CAUAUAAUCUAGAGAAUAUGGCUUUAGAA-GUUUCUACCGUGUCGCC-...UA-', SingleLetterAlphabet())"
      ]
     },
     "execution_count": 17,
     "metadata": {},
     "output_type": "execute_result"
    }
   ],
   "source": [
    "hit2.seq"
   ]
  },
  {
   "cell_type": "code",
   "execution_count": 18,
   "metadata": {
    "collapsed": false
   },
   "outputs": [
    {
     "data": {
      "text/plain": [
       "'(((.(.((((,,,(((((((_______.))))))).,,,,,,,,(((((((__.._____))))))...),,)))).)))).'"
      ]
     },
     "execution_count": 18,
     "metadata": {},
     "output_type": "execute_result"
    }
   ],
   "source": [
    "hit2.ss"
   ]
  },
  {
   "cell_type": "code",
   "execution_count": 19,
   "metadata": {
    "collapsed": false
   },
   "outputs": [
    {
     "data": {
      "text/plain": [
       "'(((.(.((((...(((((((........))))))).........(((((((.........))))))...)..)))).)))).'"
      ]
     },
     "execution_count": 19,
     "metadata": {},
     "output_type": "execute_result"
    }
   ],
   "source": [
    "hit2.ss_clean"
   ]
  },
  {
   "cell_type": "code",
   "execution_count": 20,
   "metadata": {
    "collapsed": false
   },
   "outputs": [
    {
     "name": "stdout",
     "output_type": "stream",
     "text": [
      "UAC-U-UAUUUAUGCUGAGGAU--UGG--CUUAGC-GUCUCUACAAGACA-CC--GU-AA-UGUCU---AACAAUA-AGUA-\n",
      "(((.(.((((,,,(((((((_______.))))))).,,,,,,,,(((((((__.._____))))))...),,)))).)))).\n",
      "UAG-U-CGUAUAAGUUCGGUAAUAUGG-ACCGUUC-GUUUCUACCAGGCAACC--GUAAAAUGCCA---GGCUACG-AGCU-\n",
      "(((.(.((((,,,(((((((_______.))))))).,,,,,,,,(((((((__.._____))))))...),,)))).)))).\n",
      "ACC-U-CAUAUAAUCUUGGGAAUAUGG-CCCAUAA-GUUUCUACCCGGCAACC--GUAAAUUGCCG---GACUAUG-CAGGA\n",
      "(((.(.((((,,,(((((((_______.))))))).,,,,,,,,(((((((__.._____))))))...),,)))).)))).\n",
      "GAC-U-CAUAUAAUCUAGAGAAUAUGGCUUUAGAA-GUUUCUACCGUGUCGCC--AUAAACGACAC---GACUAUG-AGUA-\n",
      "(((.(.((((,,,(((((((_______.))))))).,,,,,,,,(((((((__.._____))))))...),,)))).)))).\n",
      "UUU-U-CAUAUAAUCGCGGGGAUAUGG-CCUGCAA-GUUUCUACCGGUUUACC--GUAAAUGAACC---GACUAUG-GAAA-\n",
      "(((.(.((((,,,(((((((_______.))))))).,,,,,,,,(((((((__.._____))))))...),,)))).)))).\n",
      "UUU-C-UGUAUAAUGCCGAUAAUAAGG-UUCGGCA-GUUUCUACCAAACAGCC--GUAAACUGUUU---GACUACA-GUAA-\n",
      "(((.(.((((,,,(((((((_______.))))))).,,,,,,,,(((((((__.._____))))))...),,)))).)))).\n",
      "CCU-U-UGUAUAUACUCGCGAAUAUGG-CGUGAGA-GUCUCUACCGGGUCACC--UUAAACGACCU---GACUAUG-AAGG-\n",
      "(((.(.((((,,,(((((((_______.))))))).,,,,,,,,(((((((__.._____))))))...),,)))).)))).\n",
      "AAA-U-CGUAUAAUAGAUCGAAUGUGG-CGGUCAA-GUUUCUACCAUAUCACC--GUAAAUGAUAU---GACUACG-AUUG-\n",
      "(((.(.((((,,,(((((((_______.))))))).,,,,,,,,(((((((__.._____))))))...),,)))).)))).\n",
      "CAU-C-CAUAUAAUCUCAAUAAUAAGG-UUUGAGA-GUCUCUACGAGAGAACC--AUAAAUUCUCU---GUCUAUG-GAUG-\n",
      "(((.(.((((,,,(((((((_______.))))))).,,,,,,,,(((((((__.._____))))))...),,)))).)))).\n",
      "GGC-C-UGUAUAAUUGGGGGAAUAGGG-CUCCCAA-GUUUCUACCGGGCAACC--GUAAAUUGCCC--UGGCUACA-GCCU-\n",
      "(((.(.((((,,,(((((((_______.))))))).,,,,,,,,(((((((__.._____))))))...),,)))).)))).\n",
      "UAU-AACAUAUAAUUUUGACAAUAUGG-GUCAUAA-GUUUCUACCGGAAUACC--GUAAAUAUUCU---GACUAUG-UAUA-\n",
      "(((.(.((((,,,(((((((_______.))))))).,,,,,,,,(((((((__.._____))))))...),,)))).)))).\n",
      "CAC-U-CGUAUAUACUCGGUAAUAUGG-UCCGAGC-GUUUCUACCUAGUUCCCAAUGAAAGAACUG---GACUACG-GGUU-\n",
      "(((.(.((((,,,(((((((_______.))))))).,,,,,,,,(((((((__.._____))))))...),,)))).)))).\n",
      "CAC-U-UAUAUAAAUCUGAUAAUAAGG-GUCGGAU-GUUUCUACCAAGCUACC--GUAAAUUGCUAUAGGACUAUA-AGUG-\n",
      "(((.(.((((,,,(((((((_______.))))))).,,,,,,,,(((((((__.._____))))))...),,)))).)))).\n"
     ]
    }
   ],
   "source": [
    "for s in a.io:\n",
    "        print s.seq\n",
    "        print s.ss"
   ]
  },
  {
   "cell_type": "code",
   "execution_count": 21,
   "metadata": {
    "collapsed": false,
    "scrolled": true
   },
   "outputs": [
    {
     "name": "stdout",
     "output_type": "stream",
     "text": [
      "UACUUAUUUAUGCUGAGGAUUGGCUUAGCGUCUCUACAAGACACCGUAAUGUCUAACAAUAAGUA\n",
      "((((((((...(((((((.....))))))........((((((......))))))..))))))))\n",
      "UAGUCGUAUAAGUUCGGUAAUAUGGACCGUUCGUUUCUACCAGGCAACCGUAAAAUGCCAGGCUACGAGCU\n",
      "((((((((...(((((((.......)))))))........(((((((.......)))))))..))))))))\n",
      "ACCUCAUAUAAUCUUGGGAAUAUGGCCCAUAAGUUUCUACCCGGCAACCGUAAAUUGCCGGACUAUGCAGGA\n",
      "((((((((...(((((((.......)))))))........(((((((.......)))))))..)))))))).\n",
      "GACUCAUAUAAUCUAGAGAAUAUGGCUUUAGAAGUUUCUACCGUGUCGCCAUAAACGACACGACUAUGAGUA\n",
      "((((((((...(((((((........)))))))........(((((((.......)))))))..))))))))\n",
      "UUUUCAUAUAAUCGCGGGGAUAUGGCCUGCAAGUUUCUACCGGUUUACCGUAAAUGAACCGACUAUGGAAA\n",
      "((((((((...(((((((.......)))))))........(((((((.......)))))))..))))))))\n",
      "UUUCUGUAUAAUGCCGAUAAUAAGGUUCGGCAGUUUCUACCAAACAGCCGUAAACUGUUUGACUACAGUAA\n",
      "((((((((...(((((((.......)))))))........(((((((.......)))))))..))))))))\n",
      "CCUUUGUAUAUACUCGCGAAUAUGGCGUGAGAGUCUCUACCGGGUCACCUUAAACGACCUGACUAUGAAGG\n",
      "((((((((...(((((((.......)))))))........(((((((.......)))))))..))))))))\n",
      "AAAUCGUAUAAUAGAUCGAAUGUGGCGGUCAAGUUUCUACCAUAUCACCGUAAAUGAUAUGACUACGAUUG\n",
      "((((((((...(((((((.......)))))))........(((((((.......)))))))..))))))))\n",
      "CAUCCAUAUAAUCUCAAUAAUAAGGUUUGAGAGUCUCUACGAGAGAACCAUAAAUUCUCUGUCUAUGGAUG\n",
      "((((((((...(((((((.......)))))))........(((((((.......)))))))..))))))))\n",
      "GGCCUGUAUAAUUGGGGGAAUAGGGCUCCCAAGUUUCUACCGGGCAACCGUAAAUUGCCCUGGCUACAGCCU\n",
      "((((((((...(((((((.......)))))))........(((((((.......)))))).)..))))))))\n",
      "UAUAACAUAUAAUUUUGACAAUAUGGGUCAUAAGUUUCUACCGGAAUACCGUAAAUAUUCUGACUAUGUAUA\n",
      "((((.((((...(((((((.......)))))))........(((((((.......)))))))..))))))))\n",
      "CACUCGUAUAUACUCGGUAAUAUGGUCCGAGCGUUUCUACCUAGUUCCCAAUGAAAGAACUGGACUACGGGUU\n",
      "((((((((...(((((((.......)))))))........(((((((.........)))))))..))))))))\n",
      "CACUUAUAUAAAUCUGAUAAUAAGGGUCGGAUGUUUCUACCAAGCUACCGUAAAUUGCUAUAGGACUAUAAGUG\n",
      "((((((((...(((((((.......)))))))........(((((((.......))))))...)..))))))))\n"
     ]
    }
   ],
   "source": [
    "for s in a.io:\n",
    "        print s.seq_nogaps\n",
    "        print s.ss_nogaps"
   ]
  },
  {
   "cell_type": "code",
   "execution_count": 22,
   "metadata": {
    "collapsed": false
   },
   "outputs": [
    {
     "data": {
      "text/plain": [
       "'(((.(.((((,,,(((((((_______.))))))).,,,,,,,,(((((((__.._____))))))...),,)))).)))).'"
      ]
     },
     "execution_count": 22,
     "metadata": {},
     "output_type": "execute_result"
    }
   ],
   "source": [
    "s.ss"
   ]
  },
  {
   "cell_type": "code",
   "execution_count": 23,
   "metadata": {
    "collapsed": false
   },
   "outputs": [
    {
     "data": {
      "text/plain": [
       "'(((.(.((((...(((((((........))))))).........(((((((.........))))))...)..)))).)))).'"
      ]
     },
     "execution_count": 23,
     "metadata": {},
     "output_type": "execute_result"
    }
   ],
   "source": [
    "s.ss_clean"
   ]
  },
  {
   "cell_type": "code",
   "execution_count": 24,
   "metadata": {
    "collapsed": false
   },
   "outputs": [
    {
     "data": {
      "text/plain": [
       "'((((((((...(((((((.......)))))))........(((((((.......))))))...)..))))))))'"
      ]
     },
     "execution_count": 24,
     "metadata": {},
     "output_type": "execute_result"
    }
   ],
   "source": [
    "s.ss_nogaps"
   ]
  },
  {
   "cell_type": "markdown",
   "metadata": {
    "collapsed": true
   },
   "source": [
    "# RNA Puzzle #12"
   ]
  },
  {
   "cell_type": "code",
   "execution_count": 89,
   "metadata": {
    "collapsed": false
   },
   "outputs": [],
   "source": [
    "import rna_alignment as ra; reload(ra);"
   ]
  },
  {
   "cell_type": "code",
   "execution_count": 98,
   "metadata": {
    "collapsed": false
   },
   "outputs": [
    {
     "name": "stdout",
     "output_type": "stream",
     "text": [
      "SingleLetterAlphabet() alignment with 106 rows and 335 columns\n",
      "CCAGGUAAGUCGCC-G-C--ACCG---------------GUCA-...GGA AL939120.1/174742-174619\n",
      "CGUGCGCACGCGCC-G-A--AUCCC--------------GCAA-...AGG AL939118.1/280215-280371\n",
      "AGUCCGGCCUGCCC-G-C--A-CG---------------GCAC-...GUC AL939121.1/140405-140238\n",
      "UCGCGUCAAGCGCC-G-A--AGGC------------------A-...UCA AL939115.1/44787-44621\n",
      "UGUAGUCAAG-GCU-G-A--AUUUCCC------------AAAAA...UUU AF299117.1/4182-4326\n",
      "CAUUCAUGUGGGCCAU-A--UUGCA--------------GACA-...AAA BX927150.1/172169-172001\n",
      "AGUCCCCGUACGGC-GCG--AGCC---------------AGG--...GGA AL939125.1/103160-103305\n",
      "AACCUAAAAUCGCU-GAG--UUCCA--------------GAAA-...GGU AAES01000021.1/15273-15418\n",
      "GAAUAUUUAGCGCU-G-A--AUCCG--------------UCAU-...ACG BA000043.1/224415-224554\n",
      "UAAAACCUUUUGCU-G-A--GUCCA--------------AAUUU...AGG AE017225.1/3137586-3137727\n",
      "UUUUGUAAUACGCU-G-A--GUCCA--------------AUUAU...CGG AAEK01000002.1/18140-18287\n",
      "AACCUUAUAUCGCU-G-A--GUCCA--------------AUGAU...GGU CP000764.1/713115-713260\n",
      "CCGGAGUAAUCGCC-G-A--GUCCU--------------GCAUG...GCC CP000478.1/2207806-2207671\n",
      "UCGAAAGAUGCGCU-U-A--AUCUU--------------UUAA-...CAA AAOX01000019.1/14342-14479\n",
      "AAUCCAAAAUCGCU-U-A--AUCUA--------------AAAA-...AGA AE017333.1/525158-525301\n",
      "AAACAAAUCAUGCC-G-A--AUCUUCUUU----------AUGA-...UUA CP000726.1/1414382-1414259\n",
      "ACAACUAAAACGCU-C-A--AUUCCCG------------AGAAG...GCU AAFX01048773.1/685-551\n",
      "UAAAACCUUUUGCU-G-A--AUCCA--------------CUAUG...GGA CP000764.1/2226760-2226900\n",
      "...\n",
      "AAACAAAUAAUGCC-G-A--AUCUU--------------CUUUA...UUA CP001083.1/1451441-1451318\n",
      "\n",
      "AL939120.1/174742-174619\n",
      "CCAGGUAAGUCGCC-G-C--ACCG---------------GUCA----------------------------CC-ACCGGAG-----CG-------------------------------------GCU---------CGGGGU-GAA-GCCGUACCC---------------------------------------------------------GUCAGGG------------------------CACGGCCGGGC--------ACCUCCC---C------------GCCCGAACCCGACAGCUCACCUCGCA-GGCG-U----AAGGAGAGGGA\n",
      "CP000764.1/2226760-2226900\n",
      "UAAAACCUUUUGCU-G-A--AUCCA--------------CUAUG--------------------------UGG-AGCGGGGGA-CCCAUUUUUGUAGCAUUUG---------------------CUACU--------UGGGGC-GAA-UCUUU--------------------------------------------------------------------------------------------UUAAGUAGGGAA-------ACUCUCAC--U------------UCCCGAGUCCGACAGCUAACCUCGUA-AGCG---UAAUGGGAGAGGGA\n"
     ]
    }
   ],
   "source": [
    "a = ra.RNAalignment(\"test_data/RF00379.stockholm.stk\")\n",
    "print a\n",
    "print \n",
    "print a[0]\n",
    "print a[0].seq\n",
    "print a['CP000764.1/2226760-2226900']\n",
    "print a['CP000764.1/2226760-2226900'].seq"
   ]
  },
  {
   "cell_type": "code",
   "execution_count": 99,
   "metadata": {
    "collapsed": false
   },
   "outputs": [
    {
     "name": "stdout",
     "output_type": "stream",
     "text": [
      "ggaucgcugaacccgaaaggggcgggggacccagaaauggggcgaaucucuuccgaaaggaagaguaggguuacuccuucgacccgagcccgucagcuaaccucgcaagcguccgaaggagaauc\n",
      "Not found\n"
     ]
    }
   ],
   "source": [
    "seq = \"ggaucgcugaacccgaaaggggcgggggacccagaaauggggcgaaucucuuccgaaaggaagaguaggguuacuccuucgacccgagcccgucagcuaaccucgcaagcguccgaaggagaauc\"\n",
    "print seq\n",
    "hit = a.find_seq(seq, verbose=False)"
   ]
  },
  {
   "cell_type": "markdown",
   "metadata": {},
   "source": [
    ".. not found as regular search! Use CMalign (Infernal):"
   ]
  },
  {
   "cell_type": "code",
   "execution_count": 100,
   "metadata": {
    "collapsed": false
   },
   "outputs": [
    {
     "name": "stdout",
     "output_type": "stream",
     "text": [
      "cmd cmalign -g test_data/RF00379.cm test_data/target.seq\n",
      "# STOCKHOLM 1.0\n",
      "#=GF AU Infernal 1.1.2\n",
      "\n",
      "target         ------GGAUCGCUGAACCC-GAAA-GGGGCGGGGGACCCA--GAAA--UGGGGCGAAUCUCUUCCGAAAggAAGAGUAGGGUUACUCCUUCGACCCGAGCCCGUCAGCUAACCUCGCAAGCGUCCGAAGGAGAAUC-\n",
      "#=GR target PP ......9*************.4455.***************..4444..**************9966666779****************************************************************.\n",
      "#=GC SS_cons   ::::::::::{{{{,,,<<<______>>>[[[[[[,,,,<<________>>(((,,,,,<<<<_______.._>>>>,,<<<<__________>>>>,,,))),,,,,,,,,]]]]]],}}}}:::::::::::::::\n",
      "#=GC RF        uauuauaaaacGCcGAAucccauaagggagCGgGGGAaCCaaucuauuUuGGGGUGAAUccgguuauauu..accgguAGGGcaAcccUccuggCCCGAACCCGaCAGCUAACCuCGcAgGCguuaaaGAGaGgAaaa\n",
      "//\n"
     ]
    }
   ],
   "source": [
    "# create a file with seq\n",
    "with open('test_data/target.seq', 'w') as f:\n",
    "    f.write('>target\\n')\n",
    "    f.write(seq + '\\n')\n",
    "\n",
    "cma = ra.CMAlign()\n",
    "cma.run_cmalign(\"test_data/target.seq\", \"test_data/RF00379.cm\")"
   ]
  },
  {
   "cell_type": "code",
   "execution_count": 101,
   "metadata": {
    "collapsed": false
   },
   "outputs": [
    {
     "name": "stdout",
     "output_type": "stream",
     "text": [
      "cma hit   ------GGAUCGCUGAACCC-GAAA-GGGGCGGGGGACCCA--GAAA--UGGGGCGAAUCUCUUCCGAAAggAAGAGUAGGGUUACUCCUUCGACCCGAGCCCGUCAGCUAACCUCGCAAGCGUCCGAAGGAGAAUC-\n",
      "seq       ------GGAUCGCU-G-A--ACCC---------------GAAA----------------------------GG-GGCGGGGGA-CCCA------------------------------------GAAA---------UGGGGC-GAA-UCUCUUC-----------------------------------------------------------CGAAA--------------------------ggAAGAGUAGGG-------UUACUCCU--U------------CGACCCGAGCCCGUCAGCUAACCUCG-CAAG-C-GUCCGAAGGAGAAU\n",
      "a.rf      uauuauaaaacGCc.G.A..Auccc..............auaa...........................ggg.agCGgGGGA.aCCaau..................................cuauu.......UuGGGGU.GAA.Uccgguu...........................................................auauu..........................accgguAGGGca.......AcccUccu..g............gCCCGAACCCGaCAGCUAACCuCGcA.gGCg.u.uaaaGAGaGgAaaa\n"
     ]
    }
   ],
   "source": [
    "seq = cma.get_seq()\n",
    "\n",
    "print 'cma hit  ', seq\n",
    "print 'seq      ', a.align_seq(seq)\n",
    "print 'a.rf     ', a.rf"
   ]
  },
  {
   "cell_type": "code",
   "execution_count": 102,
   "metadata": {
    "collapsed": false
   },
   "outputs": [
    {
     "name": "stdout",
     "output_type": "stream",
     "text": [
      "Saved to  /var/folders/yc/ssr9692s5fzf7k165grnhpk80000gp/T/tmpiUGgmA.stk\n",
      "AL939120.1/174742-174619\n",
      "AAWL01000001.1/57092-56953\n",
      "CP000612.1/87012-87130\n",
      "Save to  test_output/subset.sto\n",
      "\n",
      "# STOCKHOLM 1.0\n",
      "AL939120.1/174742-174619    CCAGGUAAGUCGCC-G-C--ACCG---------------GUCA----------------------------CC-ACCGGAG-----CG-------------------------------------GCU---------CGGGGU-GAA-GCCGUACCC---------------------------------------------------------GUCAGGG------------------------CACGGCCGGGC--------ACCUCCC---C------------GCCCGAACCCGACAGCUCACCUCGCA-GGCG-U----AAGGAGAGGGA\n",
      "AAWL01000001.1/57092-56953  AACAAAGCAAAGCC-G-A--AUUCC--------------GUAU---------------------------GGA-AGCGGAGGA-CCCA------------------------------------CCUUU-------UUGGGGU-GAA-UUCUGCC-----------------------------------------------------------ACAA---------------------------GCAGAAAGGAUGUUU----ACCUCUCU--U---------GCCAUCCUAACCCGACAGCUAACUUCGUA-GGCU-AAAGCAAAGAGGUCGA\n",
      "CP000612.1/87012-87130      AUGGGAACAAUGCC-G-A--AUCCC--------------AAAG----------------------------GG-UACGGAGGA-ACCG------------------------------------UUUA---------UGGGGU-GAA-UCC---------------------------------------------------------------UUUU------------------------------GGUAGGGAU-------AUCCUU-----------------GCCCGAACCCGUCAGCUAACUCCGGA-GGCA---AAAGGAAAGGAGAA\n",
      "#=GC SS_cons                ::::::::::{{{{.,.,..,<<<_..............____..........................._>>.>[[[[[[,,.,,<<__.................................._____......._>>(((,.,,,.,<<<<__..........................................................._____.........................._>>>>,,<<<<_.......________.._............>>>>,,,))),,,,,,,,,]]]]]],.}}}}.:.::::::::::::::\n",
      "//"
     ]
    }
   ],
   "source": [
    "subset = a.subset([\"AL939120.1/174742-174619\",\"AAWL01000001.1/57092-56953\",\"CP000612.1/87012-87130\"])\n",
    "for s in subset:\n",
    "    print s\n",
    "subset.write('test_output/subset.sto')\n",
    "print\n",
    "%cat test_output/subset.sto"
   ]
  }
 ],
 "metadata": {
  "kernelspec": {
   "display_name": "Python 2",
   "language": "python",
   "name": "python2"
  },
  "language_info": {
   "codemirror_mode": {
    "name": "ipython",
    "version": 2
   },
   "file_extension": ".py",
   "mimetype": "text/x-python",
   "name": "python",
   "nbconvert_exporter": "python",
   "pygments_lexer": "ipython2",
   "version": "2.7.12"
  }
 },
 "nbformat": 4,
 "nbformat_minor": 2
}
