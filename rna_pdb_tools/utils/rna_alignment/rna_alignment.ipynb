{
 "cells": [
  {
   "cell_type": "code",
   "execution_count": 104,
   "metadata": {
    "collapsed": false
   },
   "outputs": [],
   "source": [
    "import rna_alignment as ra; reload(ra);"
   ]
  },
  {
   "cell_type": "markdown",
   "metadata": {},
   "source": [
    "# Load an alignment in the Stockholm format"
   ]
  },
  {
   "cell_type": "code",
   "execution_count": 105,
   "metadata": {
    "collapsed": false
   },
   "outputs": [
    {
     "name": "stdout",
     "output_type": "stream",
     "text": [
      "SingleLetterAlphabet() alignment with 13 rows and 82 columns\n",
      "UAC-U-UAUUUAUGCUGAGGAU--UGG--CUUAGC-GUCUCUAC...UA- AE009948.1/1094322-1094400\n",
      "UAG-U-CGUAUAAGUUCGGUAAUAUGG-ACCGUUC-GUUUCUAC...CU- AL591975.1/251136-251218\n",
      "ACC-U-CAUAUAAUCUUGGGAAUAUGG-CCCAUAA-GUUUCUAC...GGA U51115.1/15606-15691\n",
      "GAC-U-CAUAUAAUCUAGAGAAUAUGGCUUUAGAA-GUUUCUAC...UA- AF270087.1/2594-2679\n",
      "UUU-U-CAUAUAAUCGCGGGGAUAUGG-CCUGCAA-GUUUCUAC...AA- BA000028.3/1103960-1104044\n",
      "UUU-C-UGUAUAAUGCCGAUAAUAAGG-UUCGGCA-GUUUCUAC...AA- CP000879.1/2164462-2164546\n",
      "CCU-U-UGUAUAUACUCGCGAAUAUGG-CGUGAGA-GUCUCUAC...GG- CP001022.1/459677-459761\n",
      "AAA-U-CGUAUAAUAGAUCGAAUGUGG-CGGUCAA-GUUUCUAC...UG- AACY020193176.1/1629-1713\n",
      "CAU-C-CAUAUAAUCUCAAUAAUAAGG-UUUGAGA-GUCUCUAC...UG- ABDP01000002.1/29705-29789\n",
      "GGC-C-UGUAUAAUUGGGGGAAUAGGG-CUCCCAA-GUUUCUAC...CU- CP000232.1/2146033-2146118\n",
      "UAU-AACAUAUAAUUUUGACAAUAUGG-GUCAUAA-GUUUCUAC...UA- AAML04000013.1/228868-228953\n",
      "CAC-U-CGUAUAUACUCGGUAAUAUGG-UCCGAGC-GUUUCUAC...UU- CP000903.1/3101736-3101822\n",
      "CAC-U-UAUAUAAAUCUGAUAAUAAGG-GUCGGAU-GUUUCUAC...UG- CP000721.1/2204691-2204778\n"
     ]
    }
   ],
   "source": [
    "a = ra.RNAalignment('test_data/RF00167.stockholm.sto')\n",
    "print a"
   ]
  },
  {
   "cell_type": "markdown",
   "metadata": {},
   "source": [
    "Get the first seq of the alignment."
   ]
  },
  {
   "cell_type": "code",
   "execution_count": 106,
   "metadata": {
    "collapsed": false
   },
   "outputs": [
    {
     "name": "stdout",
     "output_type": "stream",
     "text": [
      "ID: AE009948.1/1094322-1094400\n",
      "Name: AE009948.1\n",
      "Description: AE009948.1/1094322-1094400\n",
      "Number of features: 0\n",
      "/start=1094322\n",
      "/end=1094400\n",
      "/accession=AE009948.1\n",
      "Per letter annotation for: secondary_structure\n",
      "Seq('UAC-U-UAUUUAUGCUGAGGAU--UGG--CUUAGC-GUCUCUACAAGACA-CC-...UA-', SingleLetterAlphabet())\n"
     ]
    }
   ],
   "source": [
    "seq = a.io[0]\n",
    "print seq"
   ]
  },
  {
   "cell_type": "code",
   "execution_count": 107,
   "metadata": {
    "collapsed": false
   },
   "outputs": [
    {
     "name": "stdout",
     "output_type": "stream",
     "text": [
      "U-UAUU\n"
     ]
    }
   ],
   "source": [
    "#slice a seq\n",
    "print seq.seq[4:10]"
   ]
  },
  {
   "cell_type": "markdown",
   "metadata": {},
   "source": [
    "# Preview the alignemnt (head, tail, describe)"
   ]
  },
  {
   "cell_type": "code",
   "execution_count": 108,
   "metadata": {
    "collapsed": false
   },
   "outputs": [
    {
     "name": "stdout",
     "output_type": "stream",
     "text": [
      "# STOCKHOLM 1.0\n",
      "AE009948.1/1094322-1094400           UAC-U-UAUUUAUGCUGAGGAU--UGG--CUUAGC-GUCUCUACAAGACA-CC--GU-AA-UGUCU---AACAAUA-AGUA-\n",
      "AL591975.1/251136-251218             UAG-U-CGUAUAAGUUCGGUAAUAUGG-ACCGUUC-GUUUCUACCAGGCAACC--GUAAAAUGCCA---GGCUACG-AGCU-\n",
      "U51115.1/15606-15691                 ACC-U-CAUAUAAUCUUGGGAAUAUGG-CCCAUAA-GUUUCUACCCGGCAACC--GUAAAUUGCCG---GACUAUG-CAGGA\n",
      "AF270087.1/2594-2679                 GAC-U-CAUAUAAUCUAGAGAAUAUGGCUUUAGAA-GUUUCUACCGUGUCGCC--AUAAACGACAC---GACUAUG-AGUA-\n"
     ]
    }
   ],
   "source": [
    "print a.head()"
   ]
  },
  {
   "cell_type": "code",
   "execution_count": 109,
   "metadata": {
    "collapsed": false
   },
   "outputs": [
    {
     "name": "stdout",
     "output_type": "stream",
     "text": [
      "CP000721.1/2204691-2204778           CAC-U-UAUAUAAAUCUGAUAAUAAGG-GUCGGAU-GUUUCUACCAAGCUACC--GUAAAUUGCUAUAGGACUAUA-AGUG-\n",
      "#=GC SS_cons                         (((.(.((((,,,(((((((_______.))))))).,,,,,,,,(((((((__.._____))))))...),,)))).)))).\n",
      "#=GC RF                              ccc.u.CgUAUAAucccgggAAUAUGG.cccggga.GUUUCUACCaggcagCC..GUAAAcugccu...GACUAcG.aggg.\n",
      "//\n",
      "\n"
     ]
    }
   ],
   "source": [
    "print a.tail()"
   ]
  },
  {
   "cell_type": "code",
   "execution_count": 110,
   "metadata": {
    "collapsed": false
   },
   "outputs": [
    {
     "name": "stdout",
     "output_type": "stream",
     "text": [
      "SingleLetterAlphabet() alignment with 13 rows and 82 columns\n"
     ]
    }
   ],
   "source": [
    "print a.describe()"
   ]
  },
  {
   "cell_type": "markdown",
   "metadata": {},
   "source": [
    "# Mapping"
   ]
  },
  {
   "cell_type": "code",
   "execution_count": 111,
   "metadata": {
    "collapsed": false
   },
   "outputs": [
    {
     "name": "stdout",
     "output_type": "stream",
     "text": [
      "[5, 6]\n",
      "CAC-U\n",
      "CAC-U-\n"
     ]
    },
    {
     "data": {
      "text/plain": [
       "[4, None]"
      ]
     },
     "execution_count": 111,
     "metadata": {},
     "output_type": "execute_result"
    }
   ],
   "source": [
    "a.map_seq_on_align('CP000721.1/2204691-2204778', [5,6])"
   ]
  },
  {
   "cell_type": "markdown",
   "metadata": {},
   "source": [
    "# Find a conserved core in the alignment."
   ]
  },
  {
   "cell_type": "code",
   "execution_count": 112,
   "metadata": {
    "collapsed": false
   },
   "outputs": [
    {
     "data": {
      "text/plain": [
       "'xxx-x-xxxxxxxxxxxxxxxx--xxx--xxxxxx-xxxxxxxxxxxxxx-xx--xx-xx-xxxxx---xxxxxxx-xxxx-'"
      ]
     },
     "execution_count": 112,
     "metadata": {},
     "output_type": "execute_result"
    }
   ],
   "source": [
    "a.find_core()"
   ]
  },
  {
   "cell_type": "code",
   "execution_count": 113,
   "metadata": {
    "collapsed": false
   },
   "outputs": [
    {
     "data": {
      "text/plain": [
       "'xxx-x-xxxxxxxxxxxxxxxxxxxxx-xxxxxxx-xxxxxxxxxxxxxxxxx--xxxxxxxxxxxxxxxxxxxxx-xxxx-'"
      ]
     },
     "execution_count": 113,
     "metadata": {},
     "output_type": "execute_result"
    }
   ],
   "source": [
    "a.find_core(['CP000721.1/2204691-2204778'])"
   ]
  },
  {
   "cell_type": "markdown",
   "metadata": {},
   "source": [
    "# Find your sequence in the alignment"
   ]
  },
  {
   "cell_type": "code",
   "execution_count": 114,
   "metadata": {
    "collapsed": false
   },
   "outputs": [
    {
     "name": "stdout",
     "output_type": "stream",
     "text": [
      "Seq to find GACUCAUAUAAUCUAGAGAAUAUGGCUUUAGAAGUUUCUACCGUGUCGCCAUAAACGACACGACUAUGAGUA\n",
      "Searching...\n",
      "Match: AF270087.1/2594-2679\n",
      "ID: AF270087.1/2594-2679\n",
      "Name: AF270087.1\n",
      "Description: AF270087.1/2594-2679\n",
      "Number of features: 0\n",
      "/start=2594\n",
      "/end=2679\n",
      "/accession=AF270087.1\n",
      "Per letter annotation for: secondary_structure\n",
      "Seq('GAC-U-CAUAUAAUCUAGAGAAUAUGGCUUUAGAA-GUUUCUACCGUGUCGCC-...UA-', SingleLetterAlphabet())\n",
      "GACUCAUAUAAUCUAGAGAAUAUGGCUUUAGAAGUUUCUACCGUGUCGCCAUAAACGACACGACUAUGAGUA\n"
     ]
    },
    {
     "data": {
      "text/plain": [
       "SeqRecord(seq=Seq('GAC-U-CAUAUAAUCUAGAGAAUAUGGCUUUAGAA-GUUUCUACCGUGUCGCC-...UA-', SingleLetterAlphabet()), id='AF270087.1/2594-2679', name='AF270087.1', description='AF270087.1/2594-2679', dbxrefs=[])"
      ]
     },
     "execution_count": 114,
     "metadata": {},
     "output_type": "execute_result"
    }
   ],
   "source": [
    "# load seq from a file\n",
    "seq =  open('test_data/af27.fa').readline().strip()\n",
    "print 'Seq to find', seq\n",
    "print 'Searching...'\n",
    "# search\n",
    "a.find_seq(seq)"
   ]
  },
  {
   "cell_type": "markdown",
   "metadata": {},
   "source": [
    "Your seq has been found as \"AF270087.1/2594-2679\" in the alignment."
   ]
  },
  {
   "cell_type": "markdown",
   "metadata": {},
   "source": [
    "# Get SS for your sequence"
   ]
  },
  {
   "cell_type": "code",
   "execution_count": 115,
   "metadata": {
    "collapsed": false
   },
   "outputs": [
    {
     "name": "stdout",
     "output_type": "stream",
     "text": [
      "Match: AF270087.1/2594-2679\n",
      "ID: AF270087.1/2594-2679\n",
      "Name: AF270087.1\n",
      "Description: AF270087.1/2594-2679\n",
      "Number of features: 0\n",
      "/start=2594\n",
      "/end=2679\n",
      "/accession=AF270087.1\n",
      "Per letter annotation for: secondary_structure\n",
      "Seq('GAC-U-CAUAUAAUCUAGAGAAUAUGGCUUUAGAA-GUUUCUACCGUGUCGCC-...UA-', SingleLetterAlphabet())\n",
      "GACUCAUAUAAUCUAGAGAAUAUGGCUUUAGAAGUUUCUACCGUGUCGCCAUAAACGACACGACUAUGAGUA\n"
     ]
    },
    {
     "data": {
      "text/plain": [
       "'(((.(.((((,,,(((((((_______.))))))).,,,,,,,,(((((((__.._____))))))...),,)))).)))).'"
      ]
     },
     "execution_count": 115,
     "metadata": {},
     "output_type": "execute_result"
    }
   ],
   "source": [
    "hit = a.find_seq(seq)\n",
    "hit.ss"
   ]
  },
  {
   "cell_type": "code",
   "execution_count": 116,
   "metadata": {
    "collapsed": false
   },
   "outputs": [
    {
     "name": "stdout",
     "output_type": "stream",
     "text": [
      "ID: AF270087.1/2594-2679\n",
      "Name: AF270087.1\n",
      "Description: AF270087.1/2594-2679\n",
      "Number of features: 0\n",
      "/start=2594\n",
      "/end=2679\n",
      "/accession=AF270087.1\n",
      "Per letter annotation for: secondary_structure\n",
      "Seq('GAC-U-CAUAUAAUCUAGAGAAUAUGGCUUUAGAA-GUUUCUACCGUGUCGCC-...UA-', SingleLetterAlphabet())\n"
     ]
    }
   ],
   "source": [
    "print hit"
   ]
  },
  {
   "cell_type": "code",
   "execution_count": 117,
   "metadata": {
    "collapsed": false
   },
   "outputs": [],
   "source": [
    "hit2 = a.get_seq('AF270087.1/2594-2679')"
   ]
  },
  {
   "cell_type": "code",
   "execution_count": 118,
   "metadata": {
    "collapsed": false
   },
   "outputs": [
    {
     "data": {
      "text/plain": [
       "Seq('GAC-U-CAUAUAAUCUAGAGAAUAUGGCUUUAGAA-GUUUCUACCGUGUCGCC-...UA-', SingleLetterAlphabet())"
      ]
     },
     "execution_count": 118,
     "metadata": {},
     "output_type": "execute_result"
    }
   ],
   "source": [
    "hit2.seq"
   ]
  },
  {
   "cell_type": "code",
   "execution_count": 119,
   "metadata": {
    "collapsed": false
   },
   "outputs": [
    {
     "data": {
      "text/plain": [
       "'(((.(.((((,,,(((((((_______.))))))).,,,,,,,,(((((((__.._____))))))...),,)))).)))).'"
      ]
     },
     "execution_count": 119,
     "metadata": {},
     "output_type": "execute_result"
    }
   ],
   "source": [
    "hit2.ss"
   ]
  },
  {
   "cell_type": "code",
   "execution_count": 120,
   "metadata": {
    "collapsed": false
   },
   "outputs": [
    {
     "data": {
      "text/plain": [
       "'(((.(.((((...(((((((........))))))).........(((((((.........))))))...)..)))).)))).'"
      ]
     },
     "execution_count": 120,
     "metadata": {},
     "output_type": "execute_result"
    }
   ],
   "source": [
    "hit2.ss_clean"
   ]
  },
  {
   "cell_type": "code",
   "execution_count": 121,
   "metadata": {
    "collapsed": false
   },
   "outputs": [
    {
     "name": "stdout",
     "output_type": "stream",
     "text": [
      "UAC-U-UAUUUAUGCUGAGGAU--UGG--CUUAGC-GUCUCUACAAGACA-CC--GU-AA-UGUCU---AACAAUA-AGUA-\n",
      "(((.(.((((,,,(((((((_______.))))))).,,,,,,,,(((((((__.._____))))))...),,)))).)))).\n",
      "UAG-U-CGUAUAAGUUCGGUAAUAUGG-ACCGUUC-GUUUCUACCAGGCAACC--GUAAAAUGCCA---GGCUACG-AGCU-\n",
      "(((.(.((((,,,(((((((_______.))))))).,,,,,,,,(((((((__.._____))))))...),,)))).)))).\n",
      "ACC-U-CAUAUAAUCUUGGGAAUAUGG-CCCAUAA-GUUUCUACCCGGCAACC--GUAAAUUGCCG---GACUAUG-CAGGA\n",
      "(((.(.((((,,,(((((((_______.))))))).,,,,,,,,(((((((__.._____))))))...),,)))).)))).\n",
      "GAC-U-CAUAUAAUCUAGAGAAUAUGGCUUUAGAA-GUUUCUACCGUGUCGCC--AUAAACGACAC---GACUAUG-AGUA-\n",
      "(((.(.((((,,,(((((((_______.))))))).,,,,,,,,(((((((__.._____))))))...),,)))).)))).\n",
      "UUU-U-CAUAUAAUCGCGGGGAUAUGG-CCUGCAA-GUUUCUACCGGUUUACC--GUAAAUGAACC---GACUAUG-GAAA-\n",
      "(((.(.((((,,,(((((((_______.))))))).,,,,,,,,(((((((__.._____))))))...),,)))).)))).\n",
      "UUU-C-UGUAUAAUGCCGAUAAUAAGG-UUCGGCA-GUUUCUACCAAACAGCC--GUAAACUGUUU---GACUACA-GUAA-\n",
      "(((.(.((((,,,(((((((_______.))))))).,,,,,,,,(((((((__.._____))))))...),,)))).)))).\n",
      "CCU-U-UGUAUAUACUCGCGAAUAUGG-CGUGAGA-GUCUCUACCGGGUCACC--UUAAACGACCU---GACUAUG-AAGG-\n",
      "(((.(.((((,,,(((((((_______.))))))).,,,,,,,,(((((((__.._____))))))...),,)))).)))).\n",
      "AAA-U-CGUAUAAUAGAUCGAAUGUGG-CGGUCAA-GUUUCUACCAUAUCACC--GUAAAUGAUAU---GACUACG-AUUG-\n",
      "(((.(.((((,,,(((((((_______.))))))).,,,,,,,,(((((((__.._____))))))...),,)))).)))).\n",
      "CAU-C-CAUAUAAUCUCAAUAAUAAGG-UUUGAGA-GUCUCUACGAGAGAACC--AUAAAUUCUCU---GUCUAUG-GAUG-\n",
      "(((.(.((((,,,(((((((_______.))))))).,,,,,,,,(((((((__.._____))))))...),,)))).)))).\n",
      "GGC-C-UGUAUAAUUGGGGGAAUAGGG-CUCCCAA-GUUUCUACCGGGCAACC--GUAAAUUGCCC--UGGCUACA-GCCU-\n",
      "(((.(.((((,,,(((((((_______.))))))).,,,,,,,,(((((((__.._____))))))...),,)))).)))).\n",
      "UAU-AACAUAUAAUUUUGACAAUAUGG-GUCAUAA-GUUUCUACCGGAAUACC--GUAAAUAUUCU---GACUAUG-UAUA-\n",
      "(((.(.((((,,,(((((((_______.))))))).,,,,,,,,(((((((__.._____))))))...),,)))).)))).\n",
      "CAC-U-CGUAUAUACUCGGUAAUAUGG-UCCGAGC-GUUUCUACCUAGUUCCCAAUGAAAGAACUG---GACUACG-GGUU-\n",
      "(((.(.((((,,,(((((((_______.))))))).,,,,,,,,(((((((__.._____))))))...),,)))).)))).\n",
      "CAC-U-UAUAUAAAUCUGAUAAUAAGG-GUCGGAU-GUUUCUACCAAGCUACC--GUAAAUUGCUAUAGGACUAUA-AGUG-\n",
      "(((.(.((((,,,(((((((_______.))))))).,,,,,,,,(((((((__.._____))))))...),,)))).)))).\n"
     ]
    }
   ],
   "source": [
    "for s in a.io:\n",
    "        print s.seq\n",
    "        print s.ss"
   ]
  },
  {
   "cell_type": "code",
   "execution_count": 122,
   "metadata": {
    "collapsed": false,
    "scrolled": true
   },
   "outputs": [
    {
     "name": "stdout",
     "output_type": "stream",
     "text": [
      "UACUUAUUUAUGCUGAGGAUUGGCUUAGCGUCUCUACAAGACACCGUAAUGUCUAACAAUAAGUA\n",
      "((((((((...(((((((.....))))))........((((((......))))))..))))))))\n",
      "UAGUCGUAUAAGUUCGGUAAUAUGGACCGUUCGUUUCUACCAGGCAACCGUAAAAUGCCAGGCUACGAGCU\n",
      "((((((((...(((((((.......)))))))........(((((((.......)))))))..))))))))\n",
      "ACCUCAUAUAAUCUUGGGAAUAUGGCCCAUAAGUUUCUACCCGGCAACCGUAAAUUGCCGGACUAUGCAGGA\n",
      "((((((((...(((((((.......)))))))........(((((((.......)))))))..)))))))).\n",
      "GACUCAUAUAAUCUAGAGAAUAUGGCUUUAGAAGUUUCUACCGUGUCGCCAUAAACGACACGACUAUGAGUA\n",
      "((((((((...(((((((........)))))))........(((((((.......)))))))..))))))))\n",
      "UUUUCAUAUAAUCGCGGGGAUAUGGCCUGCAAGUUUCUACCGGUUUACCGUAAAUGAACCGACUAUGGAAA\n",
      "((((((((...(((((((.......)))))))........(((((((.......)))))))..))))))))\n",
      "UUUCUGUAUAAUGCCGAUAAUAAGGUUCGGCAGUUUCUACCAAACAGCCGUAAACUGUUUGACUACAGUAA\n",
      "((((((((...(((((((.......)))))))........(((((((.......)))))))..))))))))\n",
      "CCUUUGUAUAUACUCGCGAAUAUGGCGUGAGAGUCUCUACCGGGUCACCUUAAACGACCUGACUAUGAAGG\n",
      "((((((((...(((((((.......)))))))........(((((((.......)))))))..))))))))\n",
      "AAAUCGUAUAAUAGAUCGAAUGUGGCGGUCAAGUUUCUACCAUAUCACCGUAAAUGAUAUGACUACGAUUG\n",
      "((((((((...(((((((.......)))))))........(((((((.......)))))))..))))))))\n",
      "CAUCCAUAUAAUCUCAAUAAUAAGGUUUGAGAGUCUCUACGAGAGAACCAUAAAUUCUCUGUCUAUGGAUG\n",
      "((((((((...(((((((.......)))))))........(((((((.......)))))))..))))))))\n",
      "GGCCUGUAUAAUUGGGGGAAUAGGGCUCCCAAGUUUCUACCGGGCAACCGUAAAUUGCCCUGGCUACAGCCU\n",
      "((((((((...(((((((.......)))))))........(((((((.......)))))).)..))))))))\n",
      "UAUAACAUAUAAUUUUGACAAUAUGGGUCAUAAGUUUCUACCGGAAUACCGUAAAUAUUCUGACUAUGUAUA\n",
      "((((.((((...(((((((.......)))))))........(((((((.......)))))))..))))))))\n",
      "CACUCGUAUAUACUCGGUAAUAUGGUCCGAGCGUUUCUACCUAGUUCCCAAUGAAAGAACUGGACUACGGGUU\n",
      "((((((((...(((((((.......)))))))........(((((((.........)))))))..))))))))\n",
      "CACUUAUAUAAAUCUGAUAAUAAGGGUCGGAUGUUUCUACCAAGCUACCGUAAAUUGCUAUAGGACUAUAAGUG\n",
      "((((((((...(((((((.......)))))))........(((((((.......))))))...)..))))))))\n"
     ]
    }
   ],
   "source": [
    "for s in a.io:\n",
    "        print s.seq_nogaps\n",
    "        print s.ss_nogaps"
   ]
  },
  {
   "cell_type": "code",
   "execution_count": 123,
   "metadata": {
    "collapsed": false
   },
   "outputs": [
    {
     "data": {
      "text/plain": [
       "'(((.(.((((,,,(((((((_______.))))))).,,,,,,,,(((((((__.._____))))))...),,)))).)))).'"
      ]
     },
     "execution_count": 123,
     "metadata": {},
     "output_type": "execute_result"
    }
   ],
   "source": [
    "s.ss"
   ]
  },
  {
   "cell_type": "code",
   "execution_count": 124,
   "metadata": {
    "collapsed": false
   },
   "outputs": [
    {
     "data": {
      "text/plain": [
       "'(((.(.((((...(((((((........))))))).........(((((((.........))))))...)..)))).)))).'"
      ]
     },
     "execution_count": 124,
     "metadata": {},
     "output_type": "execute_result"
    }
   ],
   "source": [
    "s.ss_clean"
   ]
  },
  {
   "cell_type": "code",
   "execution_count": 125,
   "metadata": {
    "collapsed": false
   },
   "outputs": [
    {
     "data": {
      "text/plain": [
       "'((((((((...(((((((.......)))))))........(((((((.......))))))...)..))))))))'"
      ]
     },
     "execution_count": 125,
     "metadata": {},
     "output_type": "execute_result"
    }
   ],
   "source": [
    "s.ss_nogaps"
   ]
  },
  {
   "cell_type": "markdown",
   "metadata": {
    "collapsed": true
   },
   "source": [
    "# RP12"
   ]
  },
  {
   "cell_type": "code",
   "execution_count": 126,
   "metadata": {
    "collapsed": false
   },
   "outputs": [],
   "source": [
    "import rna_alignment as ra; reload(ra);"
   ]
  },
  {
   "cell_type": "code",
   "execution_count": 127,
   "metadata": {
    "collapsed": false
   },
   "outputs": [
    {
     "name": "stdout",
     "output_type": "stream",
     "text": [
      "SingleLetterAlphabet() alignment with 106 rows and 335 columns\n",
      "CCAGGUAAGUCGCC-G-C--ACCG---------------GUCA-...GGA AL939120.1/174742-174619\n",
      "CGUGCGCACGCGCC-G-A--AUCCC--------------GCAA-...AGG AL939118.1/280215-280371\n",
      "AGUCCGGCCUGCCC-G-C--A-CG---------------GCAC-...GUC AL939121.1/140405-140238\n",
      "UCGCGUCAAGCGCC-G-A--AGGC------------------A-...UCA AL939115.1/44787-44621\n",
      "UGUAGUCAAG-GCU-G-A--AUUUCCC------------AAAAA...UUU AF299117.1/4182-4326\n",
      "CAUUCAUGUGGGCCAU-A--UUGCA--------------GACA-...AAA BX927150.1/172169-172001\n",
      "AGUCCCCGUACGGC-GCG--AGCC---------------AGG--...GGA AL939125.1/103160-103305\n",
      "AACCUAAAAUCGCU-GAG--UUCCA--------------GAAA-...GGU AAES01000021.1/15273-15418\n",
      "GAAUAUUUAGCGCU-G-A--AUCCG--------------UCAU-...ACG BA000043.1/224415-224554\n",
      "UAAAACCUUUUGCU-G-A--GUCCA--------------AAUUU...AGG AE017225.1/3137586-3137727\n",
      "UUUUGUAAUACGCU-G-A--GUCCA--------------AUUAU...CGG AAEK01000002.1/18140-18287\n",
      "AACCUUAUAUCGCU-G-A--GUCCA--------------AUGAU...GGU CP000764.1/713115-713260\n",
      "CCGGAGUAAUCGCC-G-A--GUCCU--------------GCAUG...GCC CP000478.1/2207806-2207671\n",
      "UCGAAAGAUGCGCU-U-A--AUCUU--------------UUAA-...CAA AAOX01000019.1/14342-14479\n",
      "AAUCCAAAAUCGCU-U-A--AUCUA--------------AAAA-...AGA AE017333.1/525158-525301\n",
      "AAACAAAUCAUGCC-G-A--AUCUUCUUU----------AUGA-...UUA CP000726.1/1414382-1414259\n",
      "ACAACUAAAACGCU-C-A--AUUCCCG------------AGAAG...GCU AAFX01048773.1/685-551\n",
      "UAAAACCUUUUGCU-G-A--AUCCA--------------CUAUG...GGA CP000764.1/2226760-2226900\n",
      "...\n",
      "AAACAAAUAAUGCC-G-A--AUCUU--------------CUUUA...UUA CP001083.1/1451441-1451318\n"
     ]
    }
   ],
   "source": [
    "a = ra.RNAalignment('test_data/RF00379.stockholm.stk')##_rm85.stk')\n",
    "print a"
   ]
  },
  {
   "cell_type": "code",
   "execution_count": 128,
   "metadata": {
    "collapsed": false
   },
   "outputs": [
    {
     "name": "stdout",
     "output_type": "stream",
     "text": [
      "ggaucgcugaacccgaaaggggcgggggacccagaaauggggcgaaucucuuccgaaaggaagaguaggguuacuccuucgacccgagcccgucagcuaaccucgcaagcguccgaaggagaauc\n",
      "Not found\n"
     ]
    }
   ],
   "source": [
    "seq = \"ggaucgcugaacccgaaaggggcgggggacccagaaauggggcgaaucucuuccgaaaggaagaguaggguuacuccuucgacccgagcccgucagcuaaccucgcaagcguccgaaggagaauc\"\n",
    "print seq\n",
    "hit = a.find_seq(seq, verbose=False)\n",
    "# not found as regular search\n",
    "# use CMfinder"
   ]
  },
  {
   "cell_type": "code",
   "execution_count": 129,
   "metadata": {
    "collapsed": false
   },
   "outputs": [
    {
     "name": "stdout",
     "output_type": "stream",
     "text": [
      "cmd cmalign -g test_data/RF00379.cm test_data/target.seq\n",
      "# STOCKHOLM 1.0\n",
      "#=GF AU Infernal 1.1.2\n",
      "\n",
      "target         ------GGAUCGCUGAACCC-GAAA-GGGGCGGGGGACCCA--GAAA--UGGGGCGAAUCUCUUCCGAAAggAAGAGUAGGGUUACUCCUUCGACCCGAGCCCGUCAGCUAACCUCGCAAGCGUCCGAAGGAGAAUC-\n",
      "#=GR target PP ......9*************.4455.***************..4444..**************9966666779****************************************************************.\n",
      "#=GC SS_cons   ::::::::::{{{{,,,<<<______>>>[[[[[[,,,,<<________>>(((,,,,,<<<<_______.._>>>>,,<<<<__________>>>>,,,))),,,,,,,,,]]]]]],}}}}:::::::::::::::\n",
      "#=GC RF        uauuauaaaacGCcGAAucccauaagggagCGgGGGAaCCaaucuauuUuGGGGUGAAUccgguuauauu..accgguAGGGcaAcccUccuggCCCGAACCCGaCAGCUAACCuCGcAgGCguuaaaGAGaGgAaaa\n",
      "//\n"
     ]
    }
   ],
   "source": [
    "# create a file with seq\n",
    "with open('test_data/target.seq', 'w') as f:\n",
    "    f.write('>target\\n')\n",
    "    f.write(seq + '\\n')\n",
    "\n",
    "cma = ra.CMAlign()\n",
    "cma.run_cmalign(\"test_data/target.seq\", \"test_data/RF00379.cm\")"
   ]
  },
  {
   "cell_type": "code",
   "execution_count": 130,
   "metadata": {
    "collapsed": false
   },
   "outputs": [
    {
     "name": "stdout",
     "output_type": "stream",
     "text": [
      "cma hit   ------GGAUCGCUGAACCC-GAAA-GGGGCGGGGGACCCA--GAAA--UGGGGCGAAUCUCUUCCGAAAggAAGAGUAGGGUUACUCCUUCGACCCGAGCCCGUCAGCUAACCUCGCAAGCGUCCGAAGGAGAAUC-\n",
      "seq       ------GGAUCGCU-G-A--ACCC---------------GAAA----------------------------GG-GGCGGGGGA-CCCA------------------------------------GAAA---------UGGGGC-GAA-UCUCUUC-----------------------------------------------------------CGAAA--------------------------ggAAGAGUAGGG-------UUACUCCU--U------------CGACCCGAGCCCGUCAGCUAACCUCG-CAAG-C-GUCCGAAGGAGAAU\n",
      "a.rf      uauuauaaaacGCc.G.A..Auccc..............auaa...........................ggg.agCGgGGGA.aCCaau..................................cuauu.......UuGGGGU.GAA.Uccgguu...........................................................auauu..........................accgguAGGGca.......AcccUccu..g............gCCCGAACCCGaCAGCUAACCuCGcA.gGCg.u.uaaaGAGaGgAaaa\n"
     ]
    }
   ],
   "source": [
    "seq = cma.get_seq()\n",
    "\n",
    "print 'cma hit  ', seq\n",
    "print 'seq      ', a.align_seq(seq)\n",
    "print 'a.rf     ', a.rf"
   ]
  },
  {
   "cell_type": "code",
   "execution_count": 131,
   "metadata": {
    "collapsed": false
   },
   "outputs": [
    {
     "name": "stdout",
     "output_type": "stream",
     "text": [
      "Saved to  /var/folders/yc/ssr9692s5fzf7k165grnhpk80000gp/T/tmppf_JKf\n",
      "# STOCKHOLM 1.0\n",
      "#=GF AC   RF00379\n",
      "#=GF ID   ydaO-yuaA\n",
      "#=GF DE   ydaO/yuaA leader\n",
      "#=GF AU   Moxon SJ\n",
      "#=GF SE   Barrick JE, Breaker RR\n",
      "#=GF SS   Predicted; Barrick JE, Breaker RR\n",
      "#=GF GA   38.00\n",
      "#=GF TC   38.00\n",
      "#=GF NC   36.20\n",
      "#=GF TP   Cis-reg;\n",
      "#=GF BM   cmbuild -F CM SEED\n",
      "#=GF CB   cmcalibrate --mpi CM\n",
      "#=GF SM   cmsearch --cpu 4 --verbose --nohmmonly -T 20 -Z 549862.597050 CM SEQDB\n",
      "#=GF DR   SO; 0000233; mature_transcript;\n",
      "#=GF RN   [1]\n",
      "#=GF RM   15096624\n",
      "#=GF RT   New RNA motifs suggest an expanded scope for riboswitches in bacterial\n",
      "#=GF RT   genetic control.\n",
      "#=GF RA   Barrick JE, Corbino KA, Winkler WC, Nahvi A, Mandal M, Collins J, Lee M,\n",
      "#=GF RA   Roth A, Sudarsan N, Jona I, Wickiser JK, Breaker RR\n",
      "#=GF RL   Proc Natl Acad Sci U S A 2004;101:6421-6426.\n",
      "#=GF CC   This family represents a conserved RNA structure found upstream of the\n",
      "#=GF CC   ydaO and yuaA genes in Bacillus subtilis and related genes in other\n",
      "#=GF CC   bacteria. The ydaO/yuaA element is thought to act as a genetic \"off\"\n",
      "#=GF CC   switch for the ydaO and yuaA genes in its native state. It is believed\n",
      "#=GF CC   that the element may be triggered during osmotic shock leading to\n",
      "#=GF CC   activation of ydaO, a predicted amino acid transporter gene, and members\n",
      "#=GF CC   of the yuaA-yubG operon which code for KtrA and KtrB K+ transporters [1].\n",
      "#=GF WK   yuaA_leader\n",
      "#=GF SQ   106\n",
      "AL939120.1/174742-174619     CCAGGUAAGUCGCC-G-C--ACCG---------------GUCA----------------------------CC-ACCGGAG-----CG-------------------------------------GCU---------CGGGGU-GAA-GCCGUACCC---------------------------------------------------------GUCAGGG------------------------CACGGCCGGGC--------ACCUCCC---C------------GCCCGAACCCGACAGCUCACCUCGCA-GGCG-U----AAGGAGAGGGA\n",
      "AAWL01000001.1/57092-56953   AACAAAGCAAAGCC-G-A--AUUCC--------------GUAU---------------------------GGA-AGCGGAGGA-CCCA------------------------------------CCUUU-------UUGGGGU-GAA-UUCUGCC-----------------------------------------------------------ACAA---------------------------GCAGAAAGGAUGUUU----ACCUCUCU--U---------GCCAUCCUAACCCGACAGCUAACUUCGUA-GGCU-AAAGCAAAGAGGUCGA\n",
      "#=GC SS_cons                 ::::::::::{{{{.,.,..,<<<_..............____..........................._>>.>[[[[[[,,.,,<<__.................................._____......._>>(((,.,,,.,<<<<__..........................................................._____.........................._>>>>,,<<<<_.......________.._............>>>>,,,))),,,,,,,,,]]]]]],.}}}}.:.::::::::::::::\n",
      "#=GC RF_cons                 uauuauaaaacGCc.G.A..Auccc..............auaa...........................ggg.agCGgGGGA.aCCaau..................................cuauu.......UuGGGGU.GAA.Uccgguu...........................................................auauu..........................accgguAGGGca.......AcccUccu..g............gCCCGAACCCGaCAGCUAACCuCGcA.gGCg.u.uaaaGAGaGgAaaa\n",
      "//\n",
      "uauuauaaaacGCc.G.A..Auccc..............auaa...........................ggg.agCGgGGGA.aCCaau..................................cuauu.......UuGGGGU.GAA.Uccgguu...........................................................auauu..........................accgguAGGGca.......AcccUccu..g............gCCCGAACCCGaCAGCUAACCuCGcA.gGCg.u.uaaaGAGaGgAaaa\n"
     ]
    }
   ],
   "source": [
    "a.subset([\"AL939120.1/174742-174619\",\"AAWL01000001.1/57092-56953\",\"CP000612.1/87012-87130\"])\n",
    "% cat /var/folders/yc/ssr9692s5fzf7k165grnhpk80000gp/T/tmpTzPenx"
   ]
  },
  {
   "cell_type": "code",
   "execution_count": 132,
   "metadata": {
    "collapsed": false
   },
   "outputs": [
    {
     "data": {
      "text/plain": [
       "'uauuauaaaacGCc.G.A..Auccc..............auaa...........................ggg.agCGgGGGA.aCCaau..................................cuauu.......UuGGGGU.GAA.Uccgguu...........................................................auauu..........................accgguAGGGca.......AcccUccu..g............gCCCGAACCCGaCAGCUAACCuCGcA.gGCg.u.uaaaGAGaGgAaaa'"
      ]
     },
     "execution_count": 132,
     "metadata": {},
     "output_type": "execute_result"
    }
   ],
   "source": [
    "a.rf"
   ]
  },
  {
   "cell_type": "code",
   "execution_count": null,
   "metadata": {
    "collapsed": true
   },
   "outputs": [],
   "source": []
  }
 ],
 "metadata": {
  "kernelspec": {
   "display_name": "Python 2",
   "language": "python",
   "name": "python2"
  },
  "language_info": {
   "codemirror_mode": {
    "name": "ipython",
    "version": 2
   },
   "file_extension": ".py",
   "mimetype": "text/x-python",
   "name": "python",
   "nbconvert_exporter": "python",
   "pygments_lexer": "ipython2",
   "version": "2.7.12"
  }
 },
 "nbformat": 4,
 "nbformat_minor": 2
}
