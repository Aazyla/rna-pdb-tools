{
 "cells": [
  {
   "cell_type": "markdown",
   "metadata": {},
   "source": [
    "# RNA Alignment (RNA-PDB-TOOLS)\n",
    "https://github.com/mmagnus/rna-pdb-tools\n",
    "\n",
    "**Table of Contents**\n",
    "\n",
    "<div id=\"toc\"></div>"
   ]
  },
  {
   "cell_type": "markdown",
   "metadata": {
    "ein.tags": [
     "worksheet-0"
    ],
    "slideshow": {
     "slide_type": "-"
    }
   },
   "source": [
    "# Load an alignment in the Stockholm format and the basics"
   ]
  },
  {
   "cell_type": "markdown",
   "metadata": {},
   "source": [
    "**Family: Purine (RF00167)\n",
    "Description: Purine riboswitch**\n",
    "\n",
    "A purine riboswitch is a sequence of ribonucleotides in certain messenger RNA (mRNA) that selectively binds to purine ligands via a natural aptamer domain. This binding causes a conformational change in the mRNA that can affect translation by revealing an expression platform for a downstream gene, or by forming a translation-terminating stem-loop. The ultimate effects of such translational regulation often take action to manage an abundance of the instigating purine, and might produce proteins that facilitate purine metabolism or purine membrane uptake.\n",
    "\n",
    "(source http://rfam.xfam.org/family/RF00167)\n",
    "\n",
    "![](pngs/rchie.png)\n",
    "Fig. Rchie plot of the purine riboswitch\n",
    "\n",
    "![](pngs/rscape.png)\n",
    "Fig. R-Scape plot of the purine riboswitch\n"
   ]
  },
  {
   "cell_type": "code",
   "execution_count": 53,
   "metadata": {
    "autoscroll": "json-false",
    "collapsed": false,
    "ein.tags": [
     "worksheet-0"
    ],
    "slideshow": {
     "slide_type": "-"
    }
   },
   "outputs": [
    {
     "name": "stdout",
     "output_type": "stream",
     "text": [
      "The autoreload extension is already loaded. To reload it, use:\n",
      "  %reload_ext autoreload\n",
      "SingleLetterAlphabet() alignment with 13 rows and 82 columns\n",
      "SingleLetterAlphabet() alignment with 13 rows and 82 columns\n",
      "UAC-U-UAUUUAUGCUGAGGAU--UGG--CUUAGC-GUCUCUAC...UA- AE009948.1/1094322-1094400\n",
      "UAG-U-CGUAUAAGUUCGGUAAUAUGG-ACCGUUC-GUUUCUAC...CU- AL591975.1/251136-251218\n",
      "ACC-U-CAUAUAAUCUUGGGAAUAUGG-CCCAUAA-GUUUCUAC...GGA U51115.1/15606-15691\n",
      "GAC-U-CAUAUAAUCUAGAGAAUAUGGCUUUAGAA-GUUUCUAC...UA- AF270087.1/2594-2679\n",
      "UUU-U-CAUAUAAUCGCGGGGAUAUGG-CCUGCAA-GUUUCUAC...AA- BA000028.3/1103960-1104044\n",
      "UUU-C-UGUAUAAUGCCGAUAAUAAGG-UUCGGCA-GUUUCUAC...AA- CP000879.1/2164462-2164546\n",
      "CCU-U-UGUAUAUACUCGCGAAUAUGG-CGUGAGA-GUCUCUAC...GG- CP001022.1/459677-459761\n",
      "AAA-U-CGUAUAAUAGAUCGAAUGUGG-CGGUCAA-GUUUCUAC...UG- AACY020193176.1/1629-1713\n",
      "CAU-C-CAUAUAAUCUCAAUAAUAAGG-UUUGAGA-GUCUCUAC...UG- ABDP01000002.1/29705-29789\n",
      "GGC-C-UGUAUAAUUGGGGGAAUAGGG-CUCCCAA-GUUUCUAC...CU- CP000232.1/2146033-2146118\n",
      "UAU-AACAUAUAAUUUUGACAAUAUGG-GUCAUAA-GUUUCUAC...UA- AAML04000013.1/228868-228953\n",
      "CAC-U-CGUAUAUACUCGGUAAUAUGG-UCCGAGC-GUUUCUAC...UU- CP000903.1/3101736-3101822\n",
      "CAC-U-UAUAUAAAUCUGAUAAUAAGG-GUCGGAU-GUUUCUAC...UG- CP000721.1/2204691-2204778\n",
      "(((.(.((((,,,(((((((_____[[.))))))).,,,,,,,,(((((((]].._____))))))...),,)))).)))).\n",
      "(((.(.((((...(((((((.....[[.))))))).........(((((((]].......))))))...)..)))).)))).\n"
     ]
    }
   ],
   "source": [
    "%load_ext autoreload\n",
    "%autoreload\n",
    "import rna_alignment as ra; reload(ra);\n",
    "\n",
    "# load an alignment from a gapped fasta file\n",
    "a = ra.fasta2stokholm(\"test_output/ade_gapped.fa\")\n",
    "print a.describe()"
   ]
  },
  {
   "cell_type": "code",
   "execution_count": null,
   "metadata": {
    "collapsed": true
   },
   "outputs": [],
   "source": [
    "# load an alignment\n",
    "a = ra.RNAalignment('test_data/RF00167.stockholm.sto')\n",
    "# \"print\" the alignemnt\n",
    "print a\n",
    "\n",
    "print a.ss_cons_with_pk\n",
    "#??a.ss_cons_with_pk\n",
    "print a.ss_cons_with_pk_std"
   ]
  },
  {
   "cell_type": "markdown",
   "metadata": {},
   "source": [
    "This package adapts biopython to be used with RNA alignments. \n",
    "(http://biopython.org/DIST/docs/api/Bio.AlignIO.StockholmIO-module.html)"
   ]
  },
  {
   "cell_type": "code",
   "execution_count": null,
   "metadata": {
    "autoscroll": "json-false",
    "collapsed": false,
    "ein.tags": [
     "worksheet-0"
    ],
    "slideshow": {
     "slide_type": "-"
    }
   },
   "outputs": [],
   "source": [
    "seq = a.io[0] # get the first seq of the alignment\n",
    "print seq # biopython seq object http://biopython.org/wiki/Seq"
   ]
  },
  {
   "cell_type": "code",
   "execution_count": null,
   "metadata": {
    "autoscroll": "json-false",
    "collapsed": false,
    "ein.tags": [
     "worksheet-0"
    ],
    "slideshow": {
     "slide_type": "-"
    }
   },
   "outputs": [],
   "source": [
    "print seq.seq[4:10] # slice the seq"
   ]
  },
  {
   "cell_type": "code",
   "execution_count": null,
   "metadata": {
    "autoscroll": "json-false",
    "collapsed": false,
    "ein.tags": [
     "worksheet-0"
    ],
    "slideshow": {
     "slide_type": "-"
    }
   },
   "outputs": [],
   "source": [
    "print a.io.format(\"fasta\")"
   ]
  },
  {
   "cell_type": "markdown",
   "metadata": {
    "ein.tags": [
     "worksheet-0"
    ],
    "slideshow": {
     "slide_type": "-"
    }
   },
   "source": [
    "# Preview the alignment (head, tail, describe)"
   ]
  },
  {
   "cell_type": "code",
   "execution_count": null,
   "metadata": {
    "autoscroll": "json-false",
    "collapsed": false,
    "ein.tags": [
     "worksheet-0"
    ],
    "slideshow": {
     "slide_type": "-"
    }
   },
   "outputs": [],
   "source": [
    "print a.head() # from rna_pdb_tools"
   ]
  },
  {
   "cell_type": "code",
   "execution_count": null,
   "metadata": {
    "autoscroll": "json-false",
    "collapsed": false,
    "ein.tags": [
     "worksheet-0"
    ],
    "slideshow": {
     "slide_type": "-"
    }
   },
   "outputs": [],
   "source": [
    "print a.tail() # from rna_pdb_tools"
   ]
  },
  {
   "cell_type": "code",
   "execution_count": null,
   "metadata": {
    "autoscroll": "json-false",
    "collapsed": false,
    "ein.tags": [
     "worksheet-0"
    ],
    "slideshow": {
     "slide_type": "-"
    }
   },
   "outputs": [],
   "source": [
    "print a.describe()"
   ]
  },
  {
   "cell_type": "markdown",
   "metadata": {},
   "source": [
    "# Go over all sequences of the alignment\n"
   ]
  },
  {
   "cell_type": "code",
   "execution_count": null,
   "metadata": {
    "autoscroll": "json-false",
    "collapsed": false,
    "ein.tags": [
     "worksheet-0"
    ],
    "slideshow": {
     "slide_type": "-"
    }
   },
   "outputs": [],
   "source": [
    "# print all seq_ids and seq of alignment (from rna_pdb_tools)\n",
    "for s in a:\n",
    "    print s"
   ]
  },
  {
   "cell_type": "code",
   "execution_count": null,
   "metadata": {
    "autoscroll": "json-false",
    "collapsed": false,
    "ein.tags": [
     "worksheet-0"
    ],
    "slideshow": {
     "slide_type": "-"
    }
   },
   "outputs": [],
   "source": [
    "# print all seq_ids and seq of alignment\n",
    "for s in a:\n",
    "    print s.id\n",
    "    print s.seq"
   ]
  },
  {
   "cell_type": "code",
   "execution_count": null,
   "metadata": {
    "collapsed": false
   },
   "outputs": [],
   "source": [
    "# you can make your own fasta format\n",
    "for s in a:\n",
    "    print s.id\n",
    "    print s.seq\n",
    "# but you have gaps!"
   ]
  },
  {
   "cell_type": "code",
   "execution_count": null,
   "metadata": {
    "collapsed": false
   },
   "outputs": [],
   "source": [
    "# you can make your own fasta format\n",
    "for s in a:\n",
    "    print '>', s.id\n",
    "    print s.seq_no_gaps\n",
    "# but you have gaps!"
   ]
  },
  {
   "cell_type": "markdown",
   "metadata": {
    "ein.tags": [
     "worksheet-0"
    ],
    "slideshow": {
     "slide_type": "-"
    }
   },
   "source": [
    "# Subset of the alignment, plotCov"
   ]
  },
  {
   "cell_type": "code",
   "execution_count": null,
   "metadata": {
    "autoscroll": "json-false",
    "collapsed": false,
    "ein.tags": [
     "worksheet-0"
    ],
    "slideshow": {
     "slide_type": "-"
    }
   },
   "outputs": [],
   "source": [
    "import rna_alignment as ra; reload(ra);\n",
    "a = ra.RNAalignment('test_data/RF00167.stockholm.sto')\n",
    "print a\n",
    "\n",
    "subset = a.subset([\"CP000721.1/2204691-2204778\",\n",
    "         \"AACY020193176.1/1629-1713\",\n",
    "         \"CP000232.1/2146033-2146118\"])\n",
    "\n",
    "print\n",
    "print 'Show me seqs of my subset:'\n",
    "print\n",
    "\n",
    "for s in subset:\n",
    "    print s.id, s.seq\n",
    "    \n",
    "subset.write('test_output/RF00167_subset.sto')\n",
    "print\n",
    "%cat test_output/RF00167_subset.sto"
   ]
  },
  {
   "cell_type": "code",
   "execution_count": null,
   "metadata": {
    "autoscroll": "json-false",
    "collapsed": false,
    "ein.tags": [
     "worksheet-0"
    ],
    "slideshow": {
     "slide_type": "-"
    }
   },
   "outputs": [],
   "source": [
    "print subset.ss_cons_std\n",
    "ra.RChie().plot_cov(subset.io.format(\"fasta\"), subset.ss_cons_std)"
   ]
  },
  {
   "cell_type": "code",
   "execution_count": null,
   "metadata": {
    "autoscroll": "json-false",
    "collapsed": false,
    "ein.tags": [
     "worksheet-0"
    ],
    "slideshow": {
     "slide_type": "-"
    }
   },
   "outputs": [],
   "source": [
    "subset.remove_empty_columns()\n",
    "print subset[0].seq\n",
    "print subset.ss_cons_std\n",
    "ra.RChie().plot_cov(subset.io.format(\"fasta\"), subset.ss_cons_std)"
   ]
  },
  {
   "cell_type": "code",
   "execution_count": null,
   "metadata": {
    "collapsed": false
   },
   "outputs": [],
   "source": [
    "print subset[0].seq\n",
    "print subset.ss_cons_with_pk_std\n",
    "print subset.io.format(\"fasta\")\n",
    "ra.RChie().plot_cov(subset.io.format(\"fasta\"), subset.ss_cons_std, verbose=True) # verbose mode"
   ]
  },
  {
   "cell_type": "code",
   "execution_count": null,
   "metadata": {
    "autoscroll": "json-false",
    "collapsed": false,
    "ein.tags": [
     "worksheet-0"
    ],
    "slideshow": {
     "slide_type": "-"
    }
   },
   "outputs": [],
   "source": [
    "rchie = ra.RChie()\n",
    "rchie.plot_cov(a.io.format(\"fasta\"), a.ss_cons) # <<< ss_cons_std should be here! @todo this could be check by me!\n",
    "rchie.write(\"test_output/plot.png\")\n",
    "rchie.show() # ^^^^^^ error ^^^^^^^"
   ]
  },
  {
   "cell_type": "markdown",
   "metadata": {
    "ein.tags": [
     "worksheet-0"
    ],
    "slideshow": {
     "slide_type": "-"
    }
   },
   "source": [
    "\n",
    "# Draw Secondary Structure of your sequence"
   ]
  },
  {
   "cell_type": "code",
   "execution_count": null,
   "metadata": {
    "autoscroll": "json-false",
    "collapsed": false,
    "ein.tags": [
     "worksheet-0"
    ],
    "slideshow": {
     "slide_type": "-"
    }
   },
   "outputs": [],
   "source": [
    "%load_ext autoreload\n",
    "%autoreload\n",
    "import copy\n",
    "import rna_alignment as ra; reload(ra);\n",
    "\n",
    "a = ra.RNAalignment('test_data/RF00167.stockholm.sto')\n",
    "s = a[0] # take first sequence\n",
    "s2 = copy.copy(s) # copy the seq to a new object\n",
    "\n",
    "s.draw_ss() # draw the seq alignment-wise :-)"
   ]
  },
  {
   "cell_type": "code",
   "execution_count": null,
   "metadata": {
    "autoscroll": "json-false",
    "collapsed": false,
    "ein.tags": [
     "worksheet-0"
    ],
    "slideshow": {
     "slide_type": "-"
    }
   },
   "outputs": [],
   "source": [
    "s.remove_gaps(check_bps=False)\n",
    "s.draw_ss()"
   ]
  },
  {
   "cell_type": "code",
   "execution_count": null,
   "metadata": {
    "autoscroll": "json-false",
    "collapsed": false,
    "ein.tags": [
     "worksheet-0"
    ],
    "slideshow": {
     "slide_type": "-"
    }
   },
   "outputs": [],
   "source": [
    "s2.remove_gaps(check_bps=True) # fix the ^^ issue\n",
    "print s2.ss\n",
    "s2.draw_ss()"
   ]
  },
  {
   "cell_type": "markdown",
   "metadata": {
    "ein.tags": [
     "worksheet-0"
    ],
    "slideshow": {
     "slide_type": "-"
    }
   },
   "source": [
    "# Slice your sequence"
   ]
  },
  {
   "cell_type": "code",
   "execution_count": null,
   "metadata": {
    "autoscroll": "json-false",
    "collapsed": false,
    "ein.tags": [
     "worksheet-0"
    ],
    "slideshow": {
     "slide_type": "-"
    }
   },
   "outputs": [],
   "source": [
    "s = subset[0] # first seq of subset (alignment)\n",
    "sliced = s[:10]\n",
    "print sliced.id\n",
    "print sliced.seq"
   ]
  },
  {
   "cell_type": "code",
   "execution_count": null,
   "metadata": {
    "autoscroll": "json-false",
    "collapsed": false,
    "ein.tags": [
     "worksheet-0"
    ],
    "slideshow": {
     "slide_type": "-"
    }
   },
   "outputs": [],
   "source": [
    "print a.io.format(\"fasta\")\n",
    "print a.ss_cons"
   ]
  },
  {
   "cell_type": "markdown",
   "metadata": {},
   "source": [
    "# Slice the alignment - columnwise"
   ]
  },
  {
   "cell_type": "code",
   "execution_count": null,
   "metadata": {
    "collapsed": false
   },
   "outputs": [],
   "source": [
    "#??a.cols\n",
    "%autoreload\n",
    "import rna_alignment as ra\n",
    "\n",
    "a = ra.RNAalignment('test_data/RF00167.stockholm.sto')\n",
    "#mini = a.cols[[1, 16]] @todo\n",
    "mini = a.cols[1:10] \n",
    "print mini.describe()\n",
    "print mini.io.format(\"fasta\")\n",
    "print mini.ss_cons_std\n",
    "mini.write('test_output/mini.sto')\n",
    "%cat test_output/mini.sto"
   ]
  },
  {
   "cell_type": "code",
   "execution_count": null,
   "metadata": {
    "collapsed": true
   },
   "outputs": [],
   "source": [
    "# RChie can draw not complate ss_cons\n",
    "# ra.RChie().plot_cov(mini.io.format(\"fasta\"), mini.ss_cons_std, verbose=False)"
   ]
  },
  {
   "cell_type": "markdown",
   "metadata": {},
   "source": [
    "# Slice the alignment - row-wise (sequence-wise)"
   ]
  },
  {
   "cell_type": "code",
   "execution_count": null,
   "metadata": {
    "collapsed": false
   },
   "outputs": [],
   "source": [
    "%autoreload\n",
    "import rna_alignment as ra\n",
    "\n",
    "a = ra.RNAalignment('test_data/RF00167.stockholm.sto')\n",
    "print a[0] # by index\n",
    "print a[1:10] # by slicing\n",
    "print a['AE009948.1/1094322-1094400'] # by seq.id\n",
    "print a[[1,4]] # by list"
   ]
  },
  {
   "cell_type": "markdown",
   "metadata": {
    "ein.tags": [
     "worksheet-0"
    ],
    "slideshow": {
     "slide_type": "-"
    }
   },
   "source": [
    "# Mapping"
   ]
  },
  {
   "cell_type": "code",
   "execution_count": null,
   "metadata": {
    "autoscroll": "json-false",
    "collapsed": false,
    "ein.tags": [
     "worksheet-0"
    ],
    "slideshow": {
     "slide_type": "-"
    }
   },
   "outputs": [],
   "source": [
    "a.map_seq_on_align('CP000721.1/2204691-2204778', [5,6])"
   ]
  },
  {
   "cell_type": "markdown",
   "metadata": {},
   "source": [
    "# Load from fasta"
   ]
  },
  {
   "cell_type": "code",
   "execution_count": null,
   "metadata": {
    "collapsed": false
   },
   "outputs": [],
   "source": [
    "# Create a fasta file first\n",
    "%load_ext autoreload\n",
    "%autoreload\n",
    "a = ra.RNAalignment('test_data/RF00167.stockholm.sto')\n",
    "txt = ''\n",
    "for seq in a:\n",
    "    txt += ''.join(['>', seq.id, '\\n', seq.seq, '\\n'])\n",
    "txt += ''.join(['>SS_cons\\n', seq.ss])\n",
    "print txt\n",
    "\n",
    "with open('test_output/ade_gapped.fa', 'w') as f:\n",
    "    f.write(txt)\n",
    "    \n",
    "#% cat test_output/ade_gapped.fa"
   ]
  },
  {
   "cell_type": "code",
   "execution_count": null,
   "metadata": {
    "collapsed": false
   },
   "outputs": [],
   "source": [
    "a = ra.fasta2stokholm('test_output/ade_gapped.fa')\n",
    "print a\n",
    "print a.ss_cons"
   ]
  },
  {
   "cell_type": "markdown",
   "metadata": {
    "ein.tags": [
     "worksheet-0"
    ],
    "slideshow": {
     "slide_type": "-"
    }
   },
   "source": [
    "# Find a conserved core in the alignment."
   ]
  },
  {
   "cell_type": "code",
   "execution_count": null,
   "metadata": {
    "autoscroll": "json-false",
    "collapsed": false,
    "ein.tags": [
     "worksheet-0"
    ],
    "slideshow": {
     "slide_type": "-"
    }
   },
   "outputs": [],
   "source": [
    "a.find_core()"
   ]
  },
  {
   "cell_type": "code",
   "execution_count": null,
   "metadata": {
    "autoscroll": "json-false",
    "collapsed": false,
    "ein.tags": [
     "worksheet-0"
    ],
    "slideshow": {
     "slide_type": "-"
    }
   },
   "outputs": [],
   "source": [
    "a.find_core(['CP000721.1/2204691-2204778'])"
   ]
  },
  {
   "cell_type": "markdown",
   "metadata": {
    "ein.tags": [
     "worksheet-0"
    ],
    "slideshow": {
     "slide_type": "-"
    }
   },
   "source": [
    "# Find your sequence in the alignment"
   ]
  },
  {
   "cell_type": "code",
   "execution_count": null,
   "metadata": {
    "autoscroll": "json-false",
    "collapsed": false,
    "ein.tags": [
     "worksheet-0"
    ],
    "slideshow": {
     "slide_type": "-"
    }
   },
   "outputs": [],
   "source": [
    "# load seq from a file\n",
    "seq =  open('test_data/af27.fa').readline().strip()\n",
    "print 'Seq to find', seq\n",
    "print 'Searching...'\n",
    "# search\n",
    "a.find_seq(seq)"
   ]
  },
  {
   "cell_type": "markdown",
   "metadata": {
    "ein.tags": [
     "worksheet-0"
    ],
    "slideshow": {
     "slide_type": "-"
    }
   },
   "source": [
    "Your seq has been found as \"AF270087.1/2594-2679\" in the alignment."
   ]
  },
  {
   "cell_type": "markdown",
   "metadata": {
    "ein.tags": [
     "worksheet-0"
    ],
    "slideshow": {
     "slide_type": "-"
    }
   },
   "source": [
    "# Get SS for your sequence"
   ]
  },
  {
   "cell_type": "code",
   "execution_count": null,
   "metadata": {
    "autoscroll": "json-false",
    "collapsed": false,
    "ein.tags": [
     "worksheet-0"
    ],
    "slideshow": {
     "slide_type": "-"
    }
   },
   "outputs": [],
   "source": [
    "hit = a.find_seq(seq)\n",
    "hit.ss"
   ]
  },
  {
   "cell_type": "code",
   "execution_count": null,
   "metadata": {
    "autoscroll": "json-false",
    "collapsed": false,
    "ein.tags": [
     "worksheet-0"
    ],
    "slideshow": {
     "slide_type": "-"
    }
   },
   "outputs": [],
   "source": [
    "print hit"
   ]
  },
  {
   "cell_type": "code",
   "execution_count": null,
   "metadata": {
    "autoscroll": "json-false",
    "collapsed": false,
    "ein.tags": [
     "worksheet-0"
    ],
    "slideshow": {
     "slide_type": "-"
    }
   },
   "outputs": [],
   "source": [
    "hit2 = a.get_seq('AF270087.1/2594-2679')"
   ]
  },
  {
   "cell_type": "code",
   "execution_count": null,
   "metadata": {
    "autoscroll": "json-false",
    "collapsed": false,
    "ein.tags": [
     "worksheet-0"
    ],
    "slideshow": {
     "slide_type": "-"
    }
   },
   "outputs": [],
   "source": [
    "hit2.seq"
   ]
  },
  {
   "cell_type": "code",
   "execution_count": null,
   "metadata": {
    "autoscroll": "json-false",
    "collapsed": false,
    "ein.tags": [
     "worksheet-0"
    ],
    "slideshow": {
     "slide_type": "-"
    }
   },
   "outputs": [],
   "source": [
    "hit2.ss"
   ]
  },
  {
   "cell_type": "code",
   "execution_count": null,
   "metadata": {
    "autoscroll": "json-false",
    "collapsed": false,
    "ein.tags": [
     "worksheet-0"
    ],
    "slideshow": {
     "slide_type": "-"
    }
   },
   "outputs": [],
   "source": [
    "hit2.ss_clean"
   ]
  },
  {
   "cell_type": "code",
   "execution_count": null,
   "metadata": {
    "collapsed": false
   },
   "outputs": [],
   "source": [
    "# hit2.remove_gaps() # SeqRecord' object has no attribute 'remove_gaps'\n",
    "hit2 = a['AF270087.1/2594-2679']\n",
    "print hit2"
   ]
  },
  {
   "cell_type": "code",
   "execution_count": null,
   "metadata": {
    "collapsed": false
   },
   "outputs": [],
   "source": [
    "hit2.ss"
   ]
  },
  {
   "cell_type": "code",
   "execution_count": null,
   "metadata": {
    "collapsed": false
   },
   "outputs": [],
   "source": [
    "hit2.remove_gaps()\n",
    "hit2.ss"
   ]
  },
  {
   "cell_type": "code",
   "execution_count": null,
   "metadata": {
    "autoscroll": "json-false",
    "collapsed": false,
    "ein.tags": [
     "worksheet-0"
    ],
    "slideshow": {
     "slide_type": "-"
    }
   },
   "outputs": [],
   "source": [
    "for s in a.io:\n",
    "        print s.seq\n",
    "        print s.ss"
   ]
  },
  {
   "cell_type": "code",
   "execution_count": null,
   "metadata": {
    "autoscroll": "json-false",
    "collapsed": false,
    "ein.tags": [
     "worksheet-0"
    ],
    "slideshow": {
     "slide_type": "-"
    }
   },
   "outputs": [],
   "source": [
    "for s in a.io:\n",
    "        print s.seq_nogaps\n",
    "        print s.ss_nogaps"
   ]
  },
  {
   "cell_type": "code",
   "execution_count": null,
   "metadata": {
    "autoscroll": "json-false",
    "collapsed": false,
    "ein.tags": [
     "worksheet-0"
    ],
    "slideshow": {
     "slide_type": "-"
    }
   },
   "outputs": [],
   "source": [
    "s.ss"
   ]
  },
  {
   "cell_type": "code",
   "execution_count": null,
   "metadata": {
    "autoscroll": "json-false",
    "collapsed": false,
    "ein.tags": [
     "worksheet-0"
    ],
    "slideshow": {
     "slide_type": "-"
    }
   },
   "outputs": [],
   "source": [
    "s.ss_clean"
   ]
  },
  {
   "cell_type": "code",
   "execution_count": null,
   "metadata": {
    "autoscroll": "json-false",
    "collapsed": false,
    "ein.tags": [
     "worksheet-0"
    ],
    "slideshow": {
     "slide_type": "-"
    }
   },
   "outputs": [],
   "source": [
    "s.ss_nogaps"
   ]
  },
  {
   "cell_type": "markdown",
   "metadata": {
    "ein.tags": [
     "worksheet-0"
    ],
    "slideshow": {
     "slide_type": "-"
    }
   },
   "source": [
    "# RNA Puzzle #12"
   ]
  },
  {
   "cell_type": "code",
   "execution_count": null,
   "metadata": {
    "autoscroll": "json-false",
    "collapsed": false,
    "ein.tags": [
     "worksheet-0"
    ],
    "slideshow": {
     "slide_type": "-"
    }
   },
   "outputs": [],
   "source": [
    "import rna_alignment as ra; reload(ra);"
   ]
  },
  {
   "cell_type": "code",
   "execution_count": null,
   "metadata": {
    "autoscroll": "json-false",
    "collapsed": false,
    "ein.tags": [
     "worksheet-0"
    ],
    "slideshow": {
     "slide_type": "-"
    }
   },
   "outputs": [],
   "source": [
    "a = ra.RNAalignment(\"test_data/RF00379.stockholm.stk\")\n",
    "print a\n",
    "print \n",
    "print a[0]\n",
    "print a[0].seq\n",
    "print a['CP000764.1/2226760-2226900']\n",
    "print a['CP000764.1/2226760-2226900'].seq"
   ]
  },
  {
   "cell_type": "code",
   "execution_count": null,
   "metadata": {
    "collapsed": false
   },
   "outputs": [],
   "source": [
    "a.plot()"
   ]
  },
  {
   "cell_type": "code",
   "execution_count": null,
   "metadata": {
    "autoscroll": "json-false",
    "collapsed": false,
    "ein.tags": [
     "worksheet-0"
    ],
    "slideshow": {
     "slide_type": "-"
    }
   },
   "outputs": [],
   "source": [
    "seq = \"ggaucgcugaacccgaaaggggcgggggacccagaaauggggcgaaucucuuccgaaaggaagaguaggguuacuccuucgacccgagcccgucagcuaaccucgcaagcguccgaaggagaauc\"\n",
    "print seq\n",
    "hit = a.find_seq(seq, verbose=False)"
   ]
  },
  {
   "cell_type": "markdown",
   "metadata": {
    "ein.tags": [
     "worksheet-0"
    ],
    "slideshow": {
     "slide_type": "-"
    }
   },
   "source": [
    ".. not found as regular search! Use CMalign (Infernal):"
   ]
  },
  {
   "cell_type": "code",
   "execution_count": null,
   "metadata": {
    "autoscroll": "json-false",
    "collapsed": false,
    "ein.tags": [
     "worksheet-0"
    ],
    "slideshow": {
     "slide_type": "-"
    }
   },
   "outputs": [],
   "source": [
    "# create a file with seq\n",
    "with open('test_data/target.seq', 'w') as f:\n",
    "    f.write('>target\\n')\n",
    "    f.write(seq + '\\n')\n",
    "\n",
    "cma = ra.CMAlign()\n",
    "cma.run_cmalign(\"test_data/target.seq\", \"test_data/RF00379.cm\")"
   ]
  },
  {
   "cell_type": "code",
   "execution_count": null,
   "metadata": {
    "autoscroll": "json-false",
    "collapsed": false,
    "ein.tags": [
     "worksheet-0"
    ],
    "slideshow": {
     "slide_type": "-"
    }
   },
   "outputs": [],
   "source": [
    "seq = cma.get_seq()\n",
    "\n",
    "print 'cma hit  ', seq\n",
    "print 'seq      ', a.align_seq(seq)\n",
    "print 'a.rf     ', a.rf"
   ]
  },
  {
   "cell_type": "code",
   "execution_count": null,
   "metadata": {
    "autoscroll": "json-false",
    "collapsed": false,
    "ein.tags": [
     "worksheet-0"
    ],
    "slideshow": {
     "slide_type": "-"
    }
   },
   "outputs": [],
   "source": [
    "subset = a.subset([\"AL939120.1/174742-174619\",\"AAWL01000001.1/57092-56953\",\"CP000612.1/87012-87130\"])\n",
    "for s in subset:\n",
    "    print s\n",
    "subset.write('test_output/subset.sto')\n",
    "print\n",
    "%cat test_output/subset.sto"
   ]
  },
  {
   "cell_type": "code",
   "execution_count": null,
   "metadata": {
    "collapsed": true
   },
   "outputs": [],
   "source": []
  }
 ],
 "metadata": {
  "kernelspec": {
   "display_name": "Python 2",
   "language": "python",
   "name": "python2"
  },
  "language_info": {
   "codemirror_mode": {
    "name": "ipython",
    "version": 2
   },
   "file_extension": ".py",
   "mimetype": "text/x-python",
   "name": "python",
   "nbconvert_exporter": "python",
   "pygments_lexer": "ipython2",
   "version": "2.7.12"
  },
  "name": "rna_alignment.ipynb"
 },
 "nbformat": 4,
 "nbformat_minor": 2
}
